{
 "cells": [
  {
   "cell_type": "code",
   "execution_count": 3,
   "id": "0df41042",
   "metadata": {},
   "outputs": [],
   "source": [
    "import pandas as pd\n",
    "from sklearn.ensemble import RandomForestClassifier\n",
    "from sklearn.model_selection import train_test_split\n",
    "from sklearn.model_selection import GridSearchCV, RandomizedSearchCV\n",
    "from sklearn.metrics import f1_score\n",
    "import numpy as np\n",
    "from sklearn.preprocessing import StandardScaler\n",
    "from sklearn.decomposition import PCA\n",
    "\n",
    "data = pd.read_csv('train_1.csv')\n",
    "\n",
    "data['px'] = data['px_height'] * data['px_width']\n",
    "\n",
    "\n",
    "\n",
    "data_px = data.drop('px_height', axis=1)\n",
    "data_px = data_px.drop('px_width', axis=1)\n"
   ]
  },
  {
   "cell_type": "code",
   "execution_count": 4,
   "id": "bf35b1ea",
   "metadata": {},
   "outputs": [],
   "source": [
    "pca = PCA(n_components=3).fit(data_px)\n",
    "pca_3d = pca.transform(data_px)"
   ]
  },
  {
   "cell_type": "code",
   "execution_count": 5,
   "id": "d602bde6",
   "metadata": {},
   "outputs": [],
   "source": [
    "data_y = data_px.price_range\n",
    "x_train, x_test, y_train, y_test = train_test_split(pca_3d, data_y, test_size=0.2)"
   ]
  },
  {
   "cell_type": "code",
   "execution_count": 6,
   "id": "08e2d761",
   "metadata": {},
   "outputs": [],
   "source": [
    "ss = StandardScaler()\n",
    "x_train_scal = ss.fit_transform(x_train)\n",
    "x_test_scal = ss.transform(x_test)\n",
    "y_train = np.array(y_train)"
   ]
  },
  {
   "cell_type": "code",
   "execution_count": 9,
   "id": "48cb60d5",
   "metadata": {},
   "outputs": [],
   "source": [
    "cl = RandomForestClassifier()\n",
    "param_dist = {'n_estimators': [110,120,130],\n",
    "              'max_depth': [20,23,25],\n",
    "              'min_samples_split': [8,15,20],\n",
    "              'min_samples_leaf': [2,3,4],\n",
    "             }\n",
    "gs = GridSearchCV(cl, param_dist, cv=5)\n",
    "gs.fit(x_train_scal, y_train)\n",
    "c = gs.best_params_"
   ]
  },
  {
   "cell_type": "code",
   "execution_count": 10,
   "id": "fff68876",
   "metadata": {},
   "outputs": [
    {
     "data": {
      "text/plain": [
       "0.93"
      ]
     },
     "execution_count": 10,
     "metadata": {},
     "output_type": "execute_result"
    }
   ],
   "source": [
    "cl = RandomForestClassifier(max_depth=c['max_depth'],\n",
    "                            n_estimators= c['n_estimators'] ,\n",
    "                            min_samples_leaf=c['min_samples_leaf'],\n",
    "                            min_samples_split=c['min_samples_split'])\n",
    "\n",
    "cl.fit(x_train_scal,y_train)\n",
    "n = cl.predict(x_test_scal)\n",
    "import numpy as np\n",
    "l = np.array(y_test)\n",
    "from sklearn.metrics import f1_score\n",
    "f1_score(l,n,average='micro')"
   ]
  }
 ],
 "metadata": {
  "kernelspec": {
   "display_name": "Python 3 (ipykernel)",
   "language": "python",
   "name": "python3"
  },
  "language_info": {
   "codemirror_mode": {
    "name": "ipython",
    "version": 3
   },
   "file_extension": ".py",
   "mimetype": "text/x-python",
   "name": "python",
   "nbconvert_exporter": "python",
   "pygments_lexer": "ipython3",
   "version": "3.9.7"
  }
 },
 "nbformat": 4,
 "nbformat_minor": 5
}
