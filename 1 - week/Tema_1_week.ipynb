{
 "cells": [
  {
   "cell_type": "code",
   "execution_count": 16,
   "id": "1c739853",
   "metadata": {
    "executionInfo": {
     "elapsed": 365,
     "status": "ok",
     "timestamp": 1665170346175,
     "user": {
      "displayName": "Артем Мичурин",
      "userId": "01802978958332870353"
     },
     "user_tz": -180
    },
    "id": "1c739853"
   },
   "outputs": [],
   "source": [
    "import pandas as pd\n",
    "import numpy as np\n",
    "from sklearn.model_selection import train_test_split\n",
    "from sklearn.linear_model import LinearRegression, TweedieRegressor\n",
    "from sklearn.preprocessing import StandardScaler\n",
    "from sklearn import metrics\n",
    "import seaborn as sns\n",
    "\n",
    "original_data = pd.read_csv('Diamonds_train.csv', \n",
    "                            index_col='Unnamed: 0')"
   ]
  },
  {
   "cell_type": "code",
   "execution_count": 17,
   "id": "PMT2KL0BqM1f",
   "metadata": {
    "colab": {
     "base_uri": "https://localhost:8080/",
     "height": 266
    },
    "executionInfo": {
     "elapsed": 13,
     "status": "ok",
     "timestamp": 1665170346176,
     "user": {
      "displayName": "Артем Мичурин",
      "userId": "01802978958332870353"
     },
     "user_tz": -180
    },
    "id": "PMT2KL0BqM1f",
    "outputId": "820c0431-ee5f-416b-8b2a-00ccac0c9c53"
   },
   "outputs": [
    {
     "data": {
      "text/html": [
       "<div>\n",
       "<style scoped>\n",
       "    .dataframe tbody tr th:only-of-type {\n",
       "        vertical-align: middle;\n",
       "    }\n",
       "\n",
       "    .dataframe tbody tr th {\n",
       "        vertical-align: top;\n",
       "    }\n",
       "\n",
       "    .dataframe thead th {\n",
       "        text-align: right;\n",
       "    }\n",
       "</style>\n",
       "<table border=\"1\" class=\"dataframe\">\n",
       "  <thead>\n",
       "    <tr style=\"text-align: right;\">\n",
       "      <th></th>\n",
       "      <th>carat</th>\n",
       "      <th>cut</th>\n",
       "      <th>color</th>\n",
       "      <th>clarity</th>\n",
       "      <th>depth</th>\n",
       "      <th>table</th>\n",
       "      <th>price</th>\n",
       "      <th>x</th>\n",
       "      <th>y</th>\n",
       "      <th>z</th>\n",
       "    </tr>\n",
       "  </thead>\n",
       "  <tbody>\n",
       "    <tr>\n",
       "      <th>42425</th>\n",
       "      <td>0.51</td>\n",
       "      <td>Good</td>\n",
       "      <td>F</td>\n",
       "      <td>SI1</td>\n",
       "      <td>63.6</td>\n",
       "      <td>56.0</td>\n",
       "      <td>1312</td>\n",
       "      <td>5.11</td>\n",
       "      <td>5.08</td>\n",
       "      <td>3.24</td>\n",
       "    </tr>\n",
       "    <tr>\n",
       "      <th>29815</th>\n",
       "      <td>0.30</td>\n",
       "      <td>Premium</td>\n",
       "      <td>D</td>\n",
       "      <td>SI1</td>\n",
       "      <td>62.4</td>\n",
       "      <td>60.0</td>\n",
       "      <td>709</td>\n",
       "      <td>4.26</td>\n",
       "      <td>4.23</td>\n",
       "      <td>2.65</td>\n",
       "    </tr>\n",
       "    <tr>\n",
       "      <th>1362</th>\n",
       "      <td>1.00</td>\n",
       "      <td>Fair</td>\n",
       "      <td>G</td>\n",
       "      <td>SI1</td>\n",
       "      <td>65.7</td>\n",
       "      <td>54.0</td>\n",
       "      <td>2964</td>\n",
       "      <td>6.24</td>\n",
       "      <td>6.16</td>\n",
       "      <td>4.07</td>\n",
       "    </tr>\n",
       "    <tr>\n",
       "      <th>39939</th>\n",
       "      <td>0.23</td>\n",
       "      <td>Very Good</td>\n",
       "      <td>E</td>\n",
       "      <td>VVS1</td>\n",
       "      <td>62.0</td>\n",
       "      <td>58.0</td>\n",
       "      <td>492</td>\n",
       "      <td>3.92</td>\n",
       "      <td>3.95</td>\n",
       "      <td>2.44</td>\n",
       "    </tr>\n",
       "    <tr>\n",
       "      <th>15397</th>\n",
       "      <td>1.12</td>\n",
       "      <td>Ideal</td>\n",
       "      <td>E</td>\n",
       "      <td>SI2</td>\n",
       "      <td>61.6</td>\n",
       "      <td>56.0</td>\n",
       "      <td>6168</td>\n",
       "      <td>6.69</td>\n",
       "      <td>6.71</td>\n",
       "      <td>4.13</td>\n",
       "    </tr>\n",
       "    <tr>\n",
       "      <th>6475</th>\n",
       "      <td>0.88</td>\n",
       "      <td>Ideal</td>\n",
       "      <td>F</td>\n",
       "      <td>SI1</td>\n",
       "      <td>62.3</td>\n",
       "      <td>53.0</td>\n",
       "      <td>4054</td>\n",
       "      <td>6.12</td>\n",
       "      <td>6.15</td>\n",
       "      <td>3.82</td>\n",
       "    </tr>\n",
       "    <tr>\n",
       "      <th>22943</th>\n",
       "      <td>1.04</td>\n",
       "      <td>Premium</td>\n",
       "      <td>D</td>\n",
       "      <td>VVS2</td>\n",
       "      <td>61.1</td>\n",
       "      <td>60.0</td>\n",
       "      <td>10984</td>\n",
       "      <td>6.54</td>\n",
       "      <td>6.51</td>\n",
       "      <td>3.99</td>\n",
       "    </tr>\n",
       "  </tbody>\n",
       "</table>\n",
       "</div>"
      ],
      "text/plain": [
       "       carat        cut color clarity  depth  table  price     x     y     z\n",
       "42425   0.51       Good     F     SI1   63.6   56.0   1312  5.11  5.08  3.24\n",
       "29815   0.30    Premium     D     SI1   62.4   60.0    709  4.26  4.23  2.65\n",
       "1362    1.00       Fair     G     SI1   65.7   54.0   2964  6.24  6.16  4.07\n",
       "39939   0.23  Very Good     E    VVS1   62.0   58.0    492  3.92  3.95  2.44\n",
       "15397   1.12      Ideal     E     SI2   61.6   56.0   6168  6.69  6.71  4.13\n",
       "6475    0.88      Ideal     F     SI1   62.3   53.0   4054  6.12  6.15  3.82\n",
       "22943   1.04    Premium     D    VVS2   61.1   60.0  10984  6.54  6.51  3.99"
      ]
     },
     "execution_count": 17,
     "metadata": {},
     "output_type": "execute_result"
    }
   ],
   "source": [
    "original_data.sample(7)"
   ]
  },
  {
   "cell_type": "code",
   "execution_count": 18,
   "id": "1TLVzBczql5b",
   "metadata": {
    "colab": {
     "base_uri": "https://localhost:8080/"
    },
    "executionInfo": {
     "elapsed": 9,
     "status": "ok",
     "timestamp": 1665170346176,
     "user": {
      "displayName": "Артем Мичурин",
      "userId": "01802978958332870353"
     },
     "user_tz": -180
    },
    "id": "1TLVzBczql5b",
    "outputId": "12a27d0f-3e68-447d-926b-acddbdec1dcb"
   },
   "outputs": [
    {
     "name": "stdout",
     "output_type": "stream",
     "text": [
      "<class 'pandas.core.frame.DataFrame'>\n",
      "Int64Index: 43152 entries, 1 to 43152\n",
      "Data columns (total 10 columns):\n",
      " #   Column   Non-Null Count  Dtype  \n",
      "---  ------   --------------  -----  \n",
      " 0   carat    43152 non-null  float64\n",
      " 1   cut      43152 non-null  object \n",
      " 2   color    43152 non-null  object \n",
      " 3   clarity  43152 non-null  object \n",
      " 4   depth    43081 non-null  float64\n",
      " 5   table    43152 non-null  float64\n",
      " 6   price    43152 non-null  int64  \n",
      " 7   x        43152 non-null  float64\n",
      " 8   y        43152 non-null  float64\n",
      " 9   z        43152 non-null  float64\n",
      "dtypes: float64(6), int64(1), object(3)\n",
      "memory usage: 3.6+ MB\n"
     ]
    }
   ],
   "source": [
    "original_data.info()"
   ]
  },
  {
   "cell_type": "code",
   "execution_count": 19,
   "id": "X7UqWRmIr7em",
   "metadata": {
    "colab": {
     "base_uri": "https://localhost:8080/"
    },
    "executionInfo": {
     "elapsed": 7,
     "status": "ok",
     "timestamp": 1665170346535,
     "user": {
      "displayName": "Артем Мичурин",
      "userId": "01802978958332870353"
     },
     "user_tz": -180
    },
    "id": "X7UqWRmIr7em",
    "outputId": "42324b2c-2c7c-4ec2-f7fe-397b9fc610eb"
   },
   "outputs": [
    {
     "data": {
      "text/plain": [
       "Index(['carat', 'cut', 'color', 'clarity', 'depth', 'table', 'price', 'x', 'y',\n",
       "       'z'],\n",
       "      dtype='object')"
      ]
     },
     "execution_count": 19,
     "metadata": {},
     "output_type": "execute_result"
    }
   ],
   "source": [
    "original_data.columns"
   ]
  },
  {
   "cell_type": "code",
   "execution_count": 20,
   "id": "xiZHlS--s7VB",
   "metadata": {
    "colab": {
     "base_uri": "https://localhost:8080/",
     "height": 350
    },
    "executionInfo": {
     "elapsed": 426,
     "status": "ok",
     "timestamp": 1665170346957,
     "user": {
      "displayName": "Артем Мичурин",
      "userId": "01802978958332870353"
     },
     "user_tz": -180
    },
    "id": "xiZHlS--s7VB",
    "outputId": "41d4b3c4-4c04-4b96-f113-7b74339be11d"
   },
   "outputs": [
    {
     "name": "stderr",
     "output_type": "stream",
     "text": [
      "/Users/vladimiragishev/mambaforge/lib/python3.9/site-packages/seaborn/distributions.py:2619: FutureWarning: `distplot` is a deprecated function and will be removed in a future version. Please adapt your code to use either `displot` (a figure-level function with similar flexibility) or `histplot` (an axes-level function for histograms).\n",
      "  warnings.warn(msg, FutureWarning)\n"
     ]
    },
    {
     "data": {
      "text/plain": [
       "<AxesSubplot:xlabel='price', ylabel='Density'>"
      ]
     },
     "execution_count": 20,
     "metadata": {},
     "output_type": "execute_result"
    },
    {
     "data": {
      "image/png": "[encoded data removed]",
      "text/plain": [
       "<Figure size 432x288 with 1 Axes>"
      ]
     },
     "metadata": {
      "needs_background": "light"
     },
     "output_type": "display_data"
    }
   ],
   "source": [
    "sns.distplot(original_data['price']) # tweedie distribution"
   ]
  },
  {
   "cell_type": "code",
   "execution_count": 21,
   "id": "b2AS2vF6bKVh",
   "metadata": {
    "colab": {
     "base_uri": "https://localhost:8080/"
    },
    "executionInfo": {
     "elapsed": 12,
     "status": "ok",
     "timestamp": 1665170346957,
     "user": {
      "displayName": "Артем Мичурин",
      "userId": "01802978958332870353"
     },
     "user_tz": -180
    },
    "id": "b2AS2vF6bKVh",
    "outputId": "04c7a50f-7057-42f1-8d4c-8933095daeb0"
   },
   "outputs": [
    {
     "data": {
      "text/plain": [
       "color\n",
       "D    61.705975\n",
       "E    61.676968\n",
       "F    61.724917\n",
       "G    61.749030\n",
       "H    61.834516\n",
       "I    61.817808\n",
       "J    61.904112\n",
       "Name: depth, dtype: float64"
      ]
     },
     "execution_count": 21,
     "metadata": {},
     "output_type": "execute_result"
    }
   ],
   "source": [
    "original_data.groupby('color').mean()['depth']"
   ]
  },
  {
   "cell_type": "code",
   "execution_count": 22,
   "id": "1CdbYYKYcpsM",
   "metadata": {
    "colab": {
     "base_uri": "https://localhost:8080/"
    },
    "executionInfo": {
     "elapsed": 7,
     "status": "ok",
     "timestamp": 1665170346957,
     "user": {
      "displayName": "Артем Мичурин",
      "userId": "01802978958332870353"
     },
     "user_tz": -180
    },
    "id": "1CdbYYKYcpsM",
    "outputId": "cdd459bd-21f0-48f0-9c62-714b7f987835"
   },
   "outputs": [
    {
     "data": {
      "text/plain": [
       "cut\n",
       "Fair         64.113022\n",
       "Good         62.433128\n",
       "Ideal        61.718572\n",
       "Premium      61.273436\n",
       "Very Good    61.829922\n",
       "Name: depth, dtype: float64"
      ]
     },
     "execution_count": 22,
     "metadata": {},
     "output_type": "execute_result"
    }
   ],
   "source": [
    "original_data.groupby('cut').mean()['depth'] \n",
    "# вот здесь различается по категориям, можно попробовать так заполнить"
   ]
  },
  {
   "cell_type": "code",
   "execution_count": 23,
   "id": "IsJI8UO1cwHr",
   "metadata": {
    "colab": {
     "base_uri": "https://localhost:8080/"
    },
    "executionInfo": {
     "elapsed": 524,
     "status": "ok",
     "timestamp": 1665170347478,
     "user": {
      "displayName": "Артем Мичурин",
      "userId": "01802978958332870353"
     },
     "user_tz": -180
    },
    "id": "IsJI8UO1cwHr",
    "outputId": "44b0ff89-8e31-4388-8742-8e33ded91f17"
   },
   "outputs": [
    {
     "data": {
      "text/plain": [
       "clarity\n",
       "I1      62.774614\n",
       "IF      61.534917\n",
       "SI1     61.872674\n",
       "SI2     61.765281\n",
       "VS1     61.677227\n",
       "VS2     61.726549\n",
       "VVS1    61.622322\n",
       "VVS2    61.671577\n",
       "Name: depth, dtype: float64"
      ]
     },
     "execution_count": 23,
     "metadata": {},
     "output_type": "execute_result"
    }
   ],
   "source": [
    "original_data.groupby('clarity').mean()['depth']"
   ]
  },
  {
   "cell_type": "code",
   "execution_count": 24,
   "id": "7ifJJw0Mqtoa",
   "metadata": {
    "executionInfo": {
     "elapsed": 30,
     "status": "ok",
     "timestamp": 1665170347478,
     "user": {
      "displayName": "Артем Мичурин",
      "userId": "01802978958332870353"
     },
     "user_tz": -180
    },
    "id": "7ifJJw0Mqtoa"
   },
   "outputs": [],
   "source": [
    "Y = original_data.price"
   ]
  },
  {
   "cell_type": "code",
   "execution_count": 25,
   "id": "j6O7meMzsb_b",
   "metadata": {
    "executionInfo": {
     "elapsed": 30,
     "status": "ok",
     "timestamp": 1665170347479,
     "user": {
      "displayName": "Артем Мичурин",
      "userId": "01802978958332870353"
     },
     "user_tz": -180
    },
    "id": "j6O7meMzsb_b"
   },
   "outputs": [],
   "source": [
    "X = original_data.drop('price', axis=1)"
   ]
  },
  {
   "cell_type": "code",
   "execution_count": 26,
   "id": "DPWiGIessno9",
   "metadata": {
    "executionInfo": {
     "elapsed": 29,
     "status": "ok",
     "timestamp": 1665170347479,
     "user": {
      "displayName": "Артем Мичурин",
      "userId": "01802978958332870353"
     },
     "user_tz": -180
    },
    "id": "DPWiGIessno9"
   },
   "outputs": [],
   "source": [
    "x_train, x_test, y_train, y_test = train_test_split(X, Y, test_size=0.3)"
   ]
  },
  {
   "cell_type": "code",
   "execution_count": 27,
   "id": "DrDJDRhts1Md",
   "metadata": {
    "colab": {
     "base_uri": "https://localhost:8080/"
    },
    "executionInfo": {
     "elapsed": 29,
     "status": "ok",
     "timestamp": 1665170347479,
     "user": {
      "displayName": "Артем Мичурин",
      "userId": "01802978958332870353"
     },
     "user_tz": -180
    },
    "id": "DrDJDRhts1Md",
    "outputId": "d49c30d5-8e96-42e4-f6f5-62dc051db925"
   },
   "outputs": [
    {
     "data": {
      "text/plain": [
       "carat       0\n",
       "cut         0\n",
       "color       0\n",
       "clarity     0\n",
       "depth      47\n",
       "table       0\n",
       "x           0\n",
       "y           0\n",
       "z           0\n",
       "dtype: int64"
      ]
     },
     "execution_count": 27,
     "metadata": {},
     "output_type": "execute_result"
    }
   ],
   "source": [
    "x_train.isna().sum()[:10]"
   ]
  },
  {
   "cell_type": "code",
   "execution_count": 28,
   "id": "acrOkQKBtCoq",
   "metadata": {
    "executionInfo": {
     "elapsed": 24,
     "status": "ok",
     "timestamp": 1665170347480,
     "user": {
      "displayName": "Артем Мичурин",
      "userId": "01802978958332870353"
     },
     "user_tz": -180
    },
    "id": "acrOkQKBtCoq"
   },
   "outputs": [],
   "source": [
    "x_train['depth'] = x_train.groupby('cut')['depth'].apply(lambda x:x.fillna(x.mean()))\n",
    "x_test['depth'] = x_test.groupby('cut')['depth'].apply(lambda x:x.fillna(x.mean()))"
   ]
  },
  {
   "cell_type": "markdown",
   "id": "c47af9a4-c301-4408-a1e1-c1f9a682d149",
   "metadata": {},
   "source": [
    "# Методы замены пропущенных значений"
   ]
  },
  {
   "cell_type": "code",
   "execution_count": 29,
   "id": "2e05b87a-5e78-4038-a8f0-96878f872ba2",
   "metadata": {},
   "outputs": [
    {
     "data": {
      "text/plain": [
       "SimpleImputer()"
      ]
     },
     "execution_count": 29,
     "metadata": {},
     "output_type": "execute_result"
    }
   ],
   "source": [
    "from sklearn.impute import SimpleImputer\n",
    "SimpleImputer(missing_values=np.nan, strategy='mean')"
   ]
  },
  {
   "cell_type": "code",
   "execution_count": 30,
   "id": "a52e5a3b-031b-4fcb-aec4-602ed244b18a",
   "metadata": {},
   "outputs": [
    {
     "ename": "ImportError",
     "evalue": "cannot import name 'IterativeImputer' from 'sklearn.impute' (/Users/vladimiragishev/mambaforge/lib/python3.9/site-packages/sklearn/impute/__init__.py)",
     "output_type": "error",
     "traceback": [
      "\u001b[0;31m---------------------------------------------------------------------------\u001b[0m",
      "\u001b[0;31mImportError\u001b[0m                               Traceback (most recent call last)",
      "\u001b[0;32m/var/folders/pd/dc92r6ps4_q25drxrf_7btlm0000gn/T/ipykernel_90429/3433647096.py\u001b[0m in \u001b[0;36m<module>\u001b[0;34m\u001b[0m\n\u001b[0;32m----> 1\u001b[0;31m \u001b[0;32mfrom\u001b[0m \u001b[0msklearn\u001b[0m\u001b[0;34m.\u001b[0m\u001b[0mimpute\u001b[0m \u001b[0;32mimport\u001b[0m \u001b[0mIterativeImputer\u001b[0m\u001b[0;34m\u001b[0m\u001b[0;34m\u001b[0m\u001b[0m\n\u001b[0m\u001b[1;32m      2\u001b[0m \u001b[0mimp\u001b[0m \u001b[0;34m=\u001b[0m \u001b[0mIterativeImputer\u001b[0m\u001b[0;34m(\u001b[0m\u001b[0mmax_iter\u001b[0m\u001b[0;34m=\u001b[0m\u001b[0;36m10\u001b[0m\u001b[0;34m,\u001b[0m \u001b[0mrandom_state\u001b[0m\u001b[0;34m=\u001b[0m\u001b[0;36m0\u001b[0m\u001b[0;34m)\u001b[0m\u001b[0;34m\u001b[0m\u001b[0;34m\u001b[0m\u001b[0m\n\u001b[1;32m      3\u001b[0m \u001b[0mimp\u001b[0m\u001b[0;34m.\u001b[0m\u001b[0mfit\u001b[0m\u001b[0;34m(\u001b[0m\u001b[0;34m[\u001b[0m\u001b[0;34m[\u001b[0m\u001b[0;36m1\u001b[0m\u001b[0;34m,\u001b[0m \u001b[0;36m2\u001b[0m\u001b[0;34m]\u001b[0m\u001b[0;34m,\u001b[0m \u001b[0;34m[\u001b[0m\u001b[0;36m3\u001b[0m\u001b[0;34m,\u001b[0m \u001b[0;36m6\u001b[0m\u001b[0;34m]\u001b[0m\u001b[0;34m,\u001b[0m \u001b[0;34m[\u001b[0m\u001b[0;36m4\u001b[0m\u001b[0;34m,\u001b[0m \u001b[0;36m8\u001b[0m\u001b[0;34m]\u001b[0m\u001b[0;34m,\u001b[0m \u001b[0;34m[\u001b[0m\u001b[0mnp\u001b[0m\u001b[0;34m.\u001b[0m\u001b[0mnan\u001b[0m\u001b[0;34m,\u001b[0m \u001b[0;36m3\u001b[0m\u001b[0;34m]\u001b[0m\u001b[0;34m,\u001b[0m \u001b[0;34m[\u001b[0m\u001b[0;36m7\u001b[0m\u001b[0;34m,\u001b[0m \u001b[0mnp\u001b[0m\u001b[0;34m.\u001b[0m\u001b[0mnan\u001b[0m\u001b[0;34m]\u001b[0m\u001b[0;34m]\u001b[0m\u001b[0;34m)\u001b[0m\u001b[0;34m\u001b[0m\u001b[0;34m\u001b[0m\u001b[0m\n\u001b[1;32m      4\u001b[0m \u001b[0mIterativeImputer\u001b[0m\u001b[0;34m(\u001b[0m\u001b[0mrandom_state\u001b[0m\u001b[0;34m=\u001b[0m\u001b[0;36m0\u001b[0m\u001b[0;34m)\u001b[0m\u001b[0;34m\u001b[0m\u001b[0;34m\u001b[0m\u001b[0m\n\u001b[1;32m      5\u001b[0m \u001b[0mX_test\u001b[0m \u001b[0;34m=\u001b[0m \u001b[0;34m[\u001b[0m\u001b[0;34m[\u001b[0m\u001b[0mnp\u001b[0m\u001b[0;34m.\u001b[0m\u001b[0mnan\u001b[0m\u001b[0;34m,\u001b[0m \u001b[0;36m2\u001b[0m\u001b[0;34m]\u001b[0m\u001b[0;34m,\u001b[0m \u001b[0;34m[\u001b[0m\u001b[0;36m6\u001b[0m\u001b[0;34m,\u001b[0m \u001b[0mnp\u001b[0m\u001b[0;34m.\u001b[0m\u001b[0mnan\u001b[0m\u001b[0;34m]\u001b[0m\u001b[0;34m,\u001b[0m \u001b[0;34m[\u001b[0m\u001b[0mnp\u001b[0m\u001b[0;34m.\u001b[0m\u001b[0mnan\u001b[0m\u001b[0;34m,\u001b[0m \u001b[0;36m6\u001b[0m\u001b[0;34m]\u001b[0m\u001b[0;34m]\u001b[0m\u001b[0;34m\u001b[0m\u001b[0;34m\u001b[0m\u001b[0m\n",
      "\u001b[0;31mImportError\u001b[0m: cannot import name 'IterativeImputer' from 'sklearn.impute' (/Users/vladimiragishev/mambaforge/lib/python3.9/site-packages/sklearn/impute/__init__.py)"
     ]
    }
   ],
   "source": [
    "from sklearn.impute import IterativeImputer\n",
    "imp = IterativeImputer(max_iter=10, random_state=0)\n",
    "imp.fit([[1, 2], [3, 6], [4, 8], [np.nan, 3], [7, np.nan]])\n",
    "IterativeImputer(random_state=0)\n",
    "X_test = [[np.nan, 2], [6, np.nan], [np.nan, 6]]\n",
    "print(np.round(imp.transform(X_test)))"
   ]
  },
  {
   "cell_type": "code",
   "execution_count": 31,
   "id": "a232b3cf-ef8a-4822-abe5-ffb9bc6e912a",
   "metadata": {},
   "outputs": [],
   "source": [
    "from sklearn.impute import KNNImputer\n",
    "imputer = KNNImputer(n_neighbors=2, weights=\"uniform\")"
   ]
  },
  {
   "cell_type": "code",
   "execution_count": 32,
   "id": "Bdj--iarrZjo",
   "metadata": {
    "executionInfo": {
     "elapsed": 23,
     "status": "ok",
     "timestamp": 1665170347480,
     "user": {
      "displayName": "Артем Мичурин",
      "userId": "01802978958332870353"
     },
     "user_tz": -180
    },
    "id": "Bdj--iarrZjo"
   },
   "outputs": [],
   "source": [
    "x_train = pd.get_dummies(data=x_train, drop_first=True)\n",
    "x_test = pd.get_dummies(data=x_test, drop_first=True)"
   ]
  },
  {
   "cell_type": "code",
   "execution_count": 33,
   "id": "bh8ksNqNr_P4",
   "metadata": {
    "colab": {
     "base_uri": "https://localhost:8080/"
    },
    "executionInfo": {
     "elapsed": 24,
     "status": "ok",
     "timestamp": 1665170347481,
     "user": {
      "displayName": "Артем Мичурин",
      "userId": "01802978958332870353"
     },
     "user_tz": -180
    },
    "id": "bh8ksNqNr_P4",
    "outputId": "a4139b8c-e5a3-4532-8caf-9797948330f7"
   },
   "outputs": [
    {
     "data": {
      "text/plain": [
       "Index(['carat', 'depth', 'table', 'x', 'y', 'z', 'cut_Good', 'cut_Ideal',\n",
       "       'cut_Premium', 'cut_Very Good', 'color_E', 'color_F', 'color_G',\n",
       "       'color_H', 'color_I', 'color_J', 'clarity_IF', 'clarity_SI1',\n",
       "       'clarity_SI2', 'clarity_VS1', 'clarity_VS2', 'clarity_VVS1',\n",
       "       'clarity_VVS2'],\n",
       "      dtype='object')"
      ]
     },
     "execution_count": 33,
     "metadata": {},
     "output_type": "execute_result"
    }
   ],
   "source": [
    "x_train.columns"
   ]
  },
  {
   "cell_type": "code",
   "execution_count": 34,
   "id": "phfCT_HstNyV",
   "metadata": {
    "colab": {
     "base_uri": "https://localhost:8080/"
    },
    "executionInfo": {
     "elapsed": 20,
     "status": "ok",
     "timestamp": 1665170347481,
     "user": {
      "displayName": "Артем Мичурин",
      "userId": "01802978958332870353"
     },
     "user_tz": -180
    },
    "id": "phfCT_HstNyV",
    "outputId": "a532ed29-cacc-4650-985a-0b730fcaf10d"
   },
   "outputs": [
    {
     "data": {
      "text/plain": [
       "carat            0\n",
       "depth            0\n",
       "table            0\n",
       "x                0\n",
       "y                0\n",
       "z                0\n",
       "cut_Good         0\n",
       "cut_Ideal        0\n",
       "cut_Premium      0\n",
       "cut_Very Good    0\n",
       "dtype: int64"
      ]
     },
     "execution_count": 34,
     "metadata": {},
     "output_type": "execute_result"
    }
   ],
   "source": [
    "x_train.isna().sum()[:10]"
   ]
  },
  {
   "cell_type": "code",
   "execution_count": 35,
   "id": "D5Ix9zKjuRRl",
   "metadata": {
    "executionInfo": {
     "elapsed": 16,
     "status": "ok",
     "timestamp": 1665170347481,
     "user": {
      "displayName": "Артем Мичурин",
      "userId": "01802978958332870353"
     },
     "user_tz": -180
    },
    "id": "D5Ix9zKjuRRl"
   },
   "outputs": [],
   "source": [
    "scaler = StandardScaler()\n",
    "\n",
    "scaled_train_data = pd.DataFrame(\n",
    "    scaler.fit_transform(x_train),\n",
    "    columns = x_train.columns)\n",
    "\n",
    "scaled_test_data = pd.DataFrame(\n",
    "    scaler.transform(x_test),\n",
    "    columns = x_test.columns)"
   ]
  },
  {
   "cell_type": "markdown",
   "id": "f82e35cd-d48d-4bfd-9d78-0919f00c5102",
   "metadata": {},
   "source": [
    "# Normalization\n",
    "<img src=\"minmax.png\" alt=\"Alternative text\" />"
   ]
  },
  {
   "cell_type": "markdown",
   "id": "83888d92-fc7a-4939-915a-baea5312e5a7",
   "metadata": {},
   "source": [
    "# Standartization\n",
    "<img src=\"stand.png\" alt=\"Alternative text\" />"
   ]
  },
  {
   "cell_type": "code",
   "execution_count": 36,
   "id": "8Kn-9pOrvlEc",
   "metadata": {
    "colab": {
     "base_uri": "https://localhost:8080/",
     "height": 500
    },
    "executionInfo": {
     "elapsed": 17,
     "status": "ok",
     "timestamp": 1665170347482,
     "user": {
      "displayName": "Артем Мичурин",
      "userId": "01802978958332870353"
     },
     "user_tz": -180
    },
    "id": "8Kn-9pOrvlEc",
    "outputId": "c472256b-a7cd-4031-a18e-1452148059cb"
   },
   "outputs": [
    {
     "data": {
      "text/html": [
       "<div>\n",
       "<style scoped>\n",
       "    .dataframe tbody tr th:only-of-type {\n",
       "        vertical-align: middle;\n",
       "    }\n",
       "\n",
       "    .dataframe tbody tr th {\n",
       "        vertical-align: top;\n",
       "    }\n",
       "\n",
       "    .dataframe thead th {\n",
       "        text-align: right;\n",
       "    }\n",
       "</style>\n",
       "<table border=\"1\" class=\"dataframe\">\n",
       "  <thead>\n",
       "    <tr style=\"text-align: right;\">\n",
       "      <th></th>\n",
       "      <th>carat</th>\n",
       "      <th>depth</th>\n",
       "      <th>table</th>\n",
       "      <th>x</th>\n",
       "      <th>y</th>\n",
       "      <th>z</th>\n",
       "      <th>cut_Good</th>\n",
       "      <th>cut_Ideal</th>\n",
       "      <th>cut_Premium</th>\n",
       "      <th>cut_Very Good</th>\n",
       "      <th>...</th>\n",
       "      <th>color_H</th>\n",
       "      <th>color_I</th>\n",
       "      <th>color_J</th>\n",
       "      <th>clarity_IF</th>\n",
       "      <th>clarity_SI1</th>\n",
       "      <th>clarity_SI2</th>\n",
       "      <th>clarity_VS1</th>\n",
       "      <th>clarity_VS2</th>\n",
       "      <th>clarity_VVS1</th>\n",
       "      <th>clarity_VVS2</th>\n",
       "    </tr>\n",
       "  </thead>\n",
       "  <tbody>\n",
       "    <tr>\n",
       "      <th>0</th>\n",
       "      <td>-0.858567</td>\n",
       "      <td>-1.014673</td>\n",
       "      <td>0.671737</td>\n",
       "      <td>-0.880419</td>\n",
       "      <td>-0.837340</td>\n",
       "      <td>-0.956540</td>\n",
       "      <td>-0.313942</td>\n",
       "      <td>-0.800796</td>\n",
       "      <td>1.653125</td>\n",
       "      <td>-0.534090</td>\n",
       "      <td>...</td>\n",
       "      <td>-0.440945</td>\n",
       "      <td>-0.338119</td>\n",
       "      <td>-0.242221</td>\n",
       "      <td>-0.191171</td>\n",
       "      <td>1.789655</td>\n",
       "      <td>-0.475596</td>\n",
       "      <td>-0.419217</td>\n",
       "      <td>-0.529429</td>\n",
       "      <td>-0.273834</td>\n",
       "      <td>-0.316164</td>\n",
       "    </tr>\n",
       "    <tr>\n",
       "      <th>1</th>\n",
       "      <td>0.492155</td>\n",
       "      <td>0.033512</td>\n",
       "      <td>0.224991</td>\n",
       "      <td>0.639669</td>\n",
       "      <td>0.646475</td>\n",
       "      <td>0.659082</td>\n",
       "      <td>-0.313942</td>\n",
       "      <td>-0.800796</td>\n",
       "      <td>-0.604915</td>\n",
       "      <td>1.872343</td>\n",
       "      <td>...</td>\n",
       "      <td>-0.440945</td>\n",
       "      <td>-0.338119</td>\n",
       "      <td>4.128463</td>\n",
       "      <td>-0.191171</td>\n",
       "      <td>-0.558767</td>\n",
       "      <td>2.102625</td>\n",
       "      <td>-0.419217</td>\n",
       "      <td>-0.529429</td>\n",
       "      <td>-0.273834</td>\n",
       "      <td>-0.316164</td>\n",
       "    </tr>\n",
       "    <tr>\n",
       "      <th>2</th>\n",
       "      <td>1.294758</td>\n",
       "      <td>-0.385762</td>\n",
       "      <td>0.224991</td>\n",
       "      <td>1.267532</td>\n",
       "      <td>1.283548</td>\n",
       "      <td>1.233229</td>\n",
       "      <td>-0.313942</td>\n",
       "      <td>1.248758</td>\n",
       "      <td>-0.604915</td>\n",
       "      <td>-0.534090</td>\n",
       "      <td>...</td>\n",
       "      <td>2.267857</td>\n",
       "      <td>-0.338119</td>\n",
       "      <td>-0.242221</td>\n",
       "      <td>-0.191171</td>\n",
       "      <td>-0.558767</td>\n",
       "      <td>-0.475596</td>\n",
       "      <td>2.385402</td>\n",
       "      <td>-0.529429</td>\n",
       "      <td>-0.273834</td>\n",
       "      <td>-0.316164</td>\n",
       "    </tr>\n",
       "    <tr>\n",
       "      <th>3</th>\n",
       "      <td>-0.623659</td>\n",
       "      <td>0.452786</td>\n",
       "      <td>-0.668501</td>\n",
       "      <td>-0.541704</td>\n",
       "      <td>-0.522835</td>\n",
       "      <td>-0.489211</td>\n",
       "      <td>-0.313942</td>\n",
       "      <td>1.248758</td>\n",
       "      <td>-0.604915</td>\n",
       "      <td>-0.534090</td>\n",
       "      <td>...</td>\n",
       "      <td>2.267857</td>\n",
       "      <td>-0.338119</td>\n",
       "      <td>-0.242221</td>\n",
       "      <td>-0.191171</td>\n",
       "      <td>-0.558767</td>\n",
       "      <td>-0.475596</td>\n",
       "      <td>-0.419217</td>\n",
       "      <td>1.888828</td>\n",
       "      <td>-0.273834</td>\n",
       "      <td>-0.316164</td>\n",
       "    </tr>\n",
       "    <tr>\n",
       "      <th>4</th>\n",
       "      <td>0.100641</td>\n",
       "      <td>-0.106246</td>\n",
       "      <td>1.565230</td>\n",
       "      <td>0.243124</td>\n",
       "      <td>0.267457</td>\n",
       "      <td>0.245163</td>\n",
       "      <td>3.185298</td>\n",
       "      <td>-0.800796</td>\n",
       "      <td>-0.604915</td>\n",
       "      <td>-0.534090</td>\n",
       "      <td>...</td>\n",
       "      <td>-0.440945</td>\n",
       "      <td>-0.338119</td>\n",
       "      <td>-0.242221</td>\n",
       "      <td>-0.191171</td>\n",
       "      <td>-0.558767</td>\n",
       "      <td>2.102625</td>\n",
       "      <td>-0.419217</td>\n",
       "      <td>-0.529429</td>\n",
       "      <td>-0.273834</td>\n",
       "      <td>-0.316164</td>\n",
       "    </tr>\n",
       "    <tr>\n",
       "      <th>...</th>\n",
       "      <td>...</td>\n",
       "      <td>...</td>\n",
       "      <td>...</td>\n",
       "      <td>...</td>\n",
       "      <td>...</td>\n",
       "      <td>...</td>\n",
       "      <td>...</td>\n",
       "      <td>...</td>\n",
       "      <td>...</td>\n",
       "      <td>...</td>\n",
       "      <td>...</td>\n",
       "      <td>...</td>\n",
       "      <td>...</td>\n",
       "      <td>...</td>\n",
       "      <td>...</td>\n",
       "      <td>...</td>\n",
       "      <td>...</td>\n",
       "      <td>...</td>\n",
       "      <td>...</td>\n",
       "      <td>...</td>\n",
       "      <td>...</td>\n",
       "    </tr>\n",
       "    <tr>\n",
       "      <th>30201</th>\n",
       "      <td>-0.878143</td>\n",
       "      <td>0.732302</td>\n",
       "      <td>-0.221755</td>\n",
       "      <td>-0.946510</td>\n",
       "      <td>-0.893789</td>\n",
       "      <td>-0.863074</td>\n",
       "      <td>-0.313942</td>\n",
       "      <td>-0.800796</td>\n",
       "      <td>-0.604915</td>\n",
       "      <td>1.872343</td>\n",
       "      <td>...</td>\n",
       "      <td>-0.440945</td>\n",
       "      <td>-0.338119</td>\n",
       "      <td>-0.242221</td>\n",
       "      <td>-0.191171</td>\n",
       "      <td>-0.558767</td>\n",
       "      <td>-0.475596</td>\n",
       "      <td>-0.419217</td>\n",
       "      <td>1.888828</td>\n",
       "      <td>-0.273834</td>\n",
       "      <td>-0.316164</td>\n",
       "    </tr>\n",
       "    <tr>\n",
       "      <th>30202</th>\n",
       "      <td>-0.917294</td>\n",
       "      <td>-1.783343</td>\n",
       "      <td>1.118483</td>\n",
       "      <td>-0.872158</td>\n",
       "      <td>-0.885725</td>\n",
       "      <td>-1.050005</td>\n",
       "      <td>-0.313942</td>\n",
       "      <td>-0.800796</td>\n",
       "      <td>1.653125</td>\n",
       "      <td>-0.534090</td>\n",
       "      <td>...</td>\n",
       "      <td>-0.440945</td>\n",
       "      <td>-0.338119</td>\n",
       "      <td>-0.242221</td>\n",
       "      <td>-0.191171</td>\n",
       "      <td>-0.558767</td>\n",
       "      <td>-0.475596</td>\n",
       "      <td>-0.419217</td>\n",
       "      <td>1.888828</td>\n",
       "      <td>-0.273834</td>\n",
       "      <td>-0.316164</td>\n",
       "    </tr>\n",
       "    <tr>\n",
       "      <th>30203</th>\n",
       "      <td>0.120217</td>\n",
       "      <td>-1.294189</td>\n",
       "      <td>0.224991</td>\n",
       "      <td>0.433135</td>\n",
       "      <td>0.356164</td>\n",
       "      <td>0.245163</td>\n",
       "      <td>-0.313942</td>\n",
       "      <td>-0.800796</td>\n",
       "      <td>-0.604915</td>\n",
       "      <td>1.872343</td>\n",
       "      <td>...</td>\n",
       "      <td>-0.440945</td>\n",
       "      <td>2.957535</td>\n",
       "      <td>-0.242221</td>\n",
       "      <td>-0.191171</td>\n",
       "      <td>-0.558767</td>\n",
       "      <td>-0.475596</td>\n",
       "      <td>-0.419217</td>\n",
       "      <td>1.888828</td>\n",
       "      <td>-0.273834</td>\n",
       "      <td>-0.316164</td>\n",
       "    </tr>\n",
       "    <tr>\n",
       "      <th>30204</th>\n",
       "      <td>-0.290872</td>\n",
       "      <td>-0.455641</td>\n",
       "      <td>-0.221755</td>\n",
       "      <td>-0.079068</td>\n",
       "      <td>-0.063175</td>\n",
       "      <td>-0.115348</td>\n",
       "      <td>-0.313942</td>\n",
       "      <td>1.248758</td>\n",
       "      <td>-0.604915</td>\n",
       "      <td>-0.534090</td>\n",
       "      <td>...</td>\n",
       "      <td>-0.440945</td>\n",
       "      <td>-0.338119</td>\n",
       "      <td>-0.242221</td>\n",
       "      <td>-0.191171</td>\n",
       "      <td>-0.558767</td>\n",
       "      <td>-0.475596</td>\n",
       "      <td>2.385402</td>\n",
       "      <td>-0.529429</td>\n",
       "      <td>-0.273834</td>\n",
       "      <td>-0.316164</td>\n",
       "    </tr>\n",
       "    <tr>\n",
       "      <th>30205</th>\n",
       "      <td>0.609609</td>\n",
       "      <td>-0.385762</td>\n",
       "      <td>1.565230</td>\n",
       "      <td>0.780112</td>\n",
       "      <td>0.735181</td>\n",
       "      <td>0.725844</td>\n",
       "      <td>-0.313942</td>\n",
       "      <td>-0.800796</td>\n",
       "      <td>1.653125</td>\n",
       "      <td>-0.534090</td>\n",
       "      <td>...</td>\n",
       "      <td>-0.440945</td>\n",
       "      <td>-0.338119</td>\n",
       "      <td>-0.242221</td>\n",
       "      <td>-0.191171</td>\n",
       "      <td>-0.558767</td>\n",
       "      <td>2.102625</td>\n",
       "      <td>-0.419217</td>\n",
       "      <td>-0.529429</td>\n",
       "      <td>-0.273834</td>\n",
       "      <td>-0.316164</td>\n",
       "    </tr>\n",
       "  </tbody>\n",
       "</table>\n",
       "<p>30206 rows × 23 columns</p>\n",
       "</div>"
      ],
      "text/plain": [
       "          carat     depth     table         x         y         z  cut_Good  \\\n",
       "0     -0.858567 -1.014673  0.671737 -0.880419 -0.837340 -0.956540 -0.313942   \n",
       "1      0.492155  0.033512  0.224991  0.639669  0.646475  0.659082 -0.313942   \n",
       "2      1.294758 -0.385762  0.224991  1.267532  1.283548  1.233229 -0.313942   \n",
       "3     -0.623659  0.452786 -0.668501 -0.541704 -0.522835 -0.489211 -0.313942   \n",
       "4      0.100641 -0.106246  1.565230  0.243124  0.267457  0.245163  3.185298   \n",
       "...         ...       ...       ...       ...       ...       ...       ...   \n",
       "30201 -0.878143  0.732302 -0.221755 -0.946510 -0.893789 -0.863074 -0.313942   \n",
       "30202 -0.917294 -1.783343  1.118483 -0.872158 -0.885725 -1.050005 -0.313942   \n",
       "30203  0.120217 -1.294189  0.224991  0.433135  0.356164  0.245163 -0.313942   \n",
       "30204 -0.290872 -0.455641 -0.221755 -0.079068 -0.063175 -0.115348 -0.313942   \n",
       "30205  0.609609 -0.385762  1.565230  0.780112  0.735181  0.725844 -0.313942   \n",
       "\n",
       "       cut_Ideal  cut_Premium  cut_Very Good  ...   color_H   color_I  \\\n",
       "0      -0.800796     1.653125      -0.534090  ... -0.440945 -0.338119   \n",
       "1      -0.800796    -0.604915       1.872343  ... -0.440945 -0.338119   \n",
       "2       1.248758    -0.604915      -0.534090  ...  2.267857 -0.338119   \n",
       "3       1.248758    -0.604915      -0.534090  ...  2.267857 -0.338119   \n",
       "4      -0.800796    -0.604915      -0.534090  ... -0.440945 -0.338119   \n",
       "...          ...          ...            ...  ...       ...       ...   \n",
       "30201  -0.800796    -0.604915       1.872343  ... -0.440945 -0.338119   \n",
       "30202  -0.800796     1.653125      -0.534090  ... -0.440945 -0.338119   \n",
       "30203  -0.800796    -0.604915       1.872343  ... -0.440945  2.957535   \n",
       "30204   1.248758    -0.604915      -0.534090  ... -0.440945 -0.338119   \n",
       "30205  -0.800796     1.653125      -0.534090  ... -0.440945 -0.338119   \n",
       "\n",
       "        color_J  clarity_IF  clarity_SI1  clarity_SI2  clarity_VS1  \\\n",
       "0     -0.242221   -0.191171     1.789655    -0.475596    -0.419217   \n",
       "1      4.128463   -0.191171    -0.558767     2.102625    -0.419217   \n",
       "2     -0.242221   -0.191171    -0.558767    -0.475596     2.385402   \n",
       "3     -0.242221   -0.191171    -0.558767    -0.475596    -0.419217   \n",
       "4     -0.242221   -0.191171    -0.558767     2.102625    -0.419217   \n",
       "...         ...         ...          ...          ...          ...   \n",
       "30201 -0.242221   -0.191171    -0.558767    -0.475596    -0.419217   \n",
       "30202 -0.242221   -0.191171    -0.558767    -0.475596    -0.419217   \n",
       "30203 -0.242221   -0.191171    -0.558767    -0.475596    -0.419217   \n",
       "30204 -0.242221   -0.191171    -0.558767    -0.475596     2.385402   \n",
       "30205 -0.242221   -0.191171    -0.558767     2.102625    -0.419217   \n",
       "\n",
       "       clarity_VS2  clarity_VVS1  clarity_VVS2  \n",
       "0        -0.529429     -0.273834     -0.316164  \n",
       "1        -0.529429     -0.273834     -0.316164  \n",
       "2        -0.529429     -0.273834     -0.316164  \n",
       "3         1.888828     -0.273834     -0.316164  \n",
       "4        -0.529429     -0.273834     -0.316164  \n",
       "...            ...           ...           ...  \n",
       "30201     1.888828     -0.273834     -0.316164  \n",
       "30202     1.888828     -0.273834     -0.316164  \n",
       "30203     1.888828     -0.273834     -0.316164  \n",
       "30204    -0.529429     -0.273834     -0.316164  \n",
       "30205    -0.529429     -0.273834     -0.316164  \n",
       "\n",
       "[30206 rows x 23 columns]"
      ]
     },
     "execution_count": 36,
     "metadata": {},
     "output_type": "execute_result"
    }
   ],
   "source": [
    "scaled_train_data"
   ]
  },
  {
   "cell_type": "code",
   "execution_count": 37,
   "id": "DmIyPeDmwn0I",
   "metadata": {
    "executionInfo": {
     "elapsed": 15,
     "status": "ok",
     "timestamp": 1665170347482,
     "user": {
      "displayName": "Артем Мичурин",
      "userId": "01802978958332870353"
     },
     "user_tz": -180
    },
    "id": "DmIyPeDmwn0I"
   },
   "outputs": [
    {
     "data": {
      "text/plain": [
       "array([ 5.67410277e+03, -9.67760225e+01, -6.44143282e+01, -1.13540375e+03,\n",
       "       -2.74520485e+00,  1.75665025e+01,  1.97671221e+02,  4.89849765e+02,\n",
       "        3.95874028e+02,  3.63853886e+02, -8.92031738e+01, -1.12416917e+02,\n",
       "       -2.15324361e+02, -4.09398948e+02, -4.89280986e+02, -6.03890358e+02,\n",
       "        1.05698390e+03,  1.69381347e+03,  1.13425678e+03,  1.78249382e+03,\n",
       "        1.93777350e+03,  1.37929269e+03,  1.55474407e+03])"
      ]
     },
     "execution_count": 37,
     "metadata": {},
     "output_type": "execute_result"
    }
   ],
   "source": [
    "LR_model = LinearRegression().fit(scaled_train_data, y_train)\n",
    "\n",
    "LR_y_pred = LR_model.predict(scaled_test_data)\n",
    "\n",
    "LR_model.coef_"
   ]
  },
  {
   "cell_type": "code",
   "execution_count": 1721,
   "id": "7nRWUDDqxGjr",
   "metadata": {
    "colab": {
     "base_uri": "https://localhost:8080/",
     "height": 669
    },
    "executionInfo": {
     "elapsed": 15,
     "status": "ok",
     "timestamp": 1665170347482,
     "user": {
      "displayName": "Артем Мичурин",
      "userId": "01802978958332870353"
     },
     "user_tz": -180
    },
    "id": "7nRWUDDqxGjr",
    "outputId": "bc177511-732d-4867-bc39-d2464023b8f8"
   },
   "outputs": [
    {
     "data": {
      "text/html": [
       "\n",
       "  <div id=\"df-e32f02e6-86c5-4897-9d36-4144c94f65fe\">\n",
       "    <div class=\"colab-df-container\">\n",
       "      <div>\n",
       "<style scoped>\n",
       "    .dataframe tbody tr th:only-of-type {\n",
       "        vertical-align: middle;\n",
       "    }\n",
       "\n",
       "    .dataframe tbody tr th {\n",
       "        vertical-align: top;\n",
       "    }\n",
       "\n",
       "    .dataframe thead th {\n",
       "        text-align: right;\n",
       "    }\n",
       "</style>\n",
       "<table border=\"1\" class=\"dataframe\">\n",
       "  <thead>\n",
       "    <tr style=\"text-align: right;\">\n",
       "      <th></th>\n",
       "      <th>Actual</th>\n",
       "      <th>Predicted</th>\n",
       "    </tr>\n",
       "  </thead>\n",
       "  <tbody>\n",
       "    <tr>\n",
       "      <th>7658</th>\n",
       "      <td>4269</td>\n",
       "      <td>4097.768406</td>\n",
       "    </tr>\n",
       "    <tr>\n",
       "      <th>9767</th>\n",
       "      <td>4662</td>\n",
       "      <td>4907.646409</td>\n",
       "    </tr>\n",
       "    <tr>\n",
       "      <th>24138</th>\n",
       "      <td>12308</td>\n",
       "      <td>10692.419574</td>\n",
       "    </tr>\n",
       "    <tr>\n",
       "      <th>22881</th>\n",
       "      <td>10922</td>\n",
       "      <td>9239.092658</td>\n",
       "    </tr>\n",
       "    <tr>\n",
       "      <th>33267</th>\n",
       "      <td>826</td>\n",
       "      <td>1461.722996</td>\n",
       "    </tr>\n",
       "    <tr>\n",
       "      <th>36657</th>\n",
       "      <td>949</td>\n",
       "      <td>1440.529065</td>\n",
       "    </tr>\n",
       "    <tr>\n",
       "      <th>1661</th>\n",
       "      <td>3024</td>\n",
       "      <td>4134.803971</td>\n",
       "    </tr>\n",
       "    <tr>\n",
       "      <th>5487</th>\n",
       "      <td>3841</td>\n",
       "      <td>4451.394905</td>\n",
       "    </tr>\n",
       "    <tr>\n",
       "      <th>21691</th>\n",
       "      <td>626</td>\n",
       "      <td>178.047237</td>\n",
       "    </tr>\n",
       "    <tr>\n",
       "      <th>2485</th>\n",
       "      <td>3195</td>\n",
       "      <td>4554.307797</td>\n",
       "    </tr>\n",
       "    <tr>\n",
       "      <th>8697</th>\n",
       "      <td>4459</td>\n",
       "      <td>4843.157285</td>\n",
       "    </tr>\n",
       "    <tr>\n",
       "      <th>10294</th>\n",
       "      <td>4758</td>\n",
       "      <td>3952.491194</td>\n",
       "    </tr>\n",
       "    <tr>\n",
       "      <th>6446</th>\n",
       "      <td>4047</td>\n",
       "      <td>4223.131916</td>\n",
       "    </tr>\n",
       "    <tr>\n",
       "      <th>34317</th>\n",
       "      <td>859</td>\n",
       "      <td>1346.524864</td>\n",
       "    </tr>\n",
       "    <tr>\n",
       "      <th>10974</th>\n",
       "      <td>4907</td>\n",
       "      <td>4963.694346</td>\n",
       "    </tr>\n",
       "    <tr>\n",
       "      <th>29628</th>\n",
       "      <td>441</td>\n",
       "      <td>-1052.681714</td>\n",
       "    </tr>\n",
       "    <tr>\n",
       "      <th>27047</th>\n",
       "      <td>645</td>\n",
       "      <td>498.485776</td>\n",
       "    </tr>\n",
       "    <tr>\n",
       "      <th>7159</th>\n",
       "      <td>4181</td>\n",
       "      <td>4840.957513</td>\n",
       "    </tr>\n",
       "    <tr>\n",
       "      <th>31990</th>\n",
       "      <td>776</td>\n",
       "      <td>584.324612</td>\n",
       "    </tr>\n",
       "    <tr>\n",
       "      <th>37634</th>\n",
       "      <td>990</td>\n",
       "      <td>722.574167</td>\n",
       "    </tr>\n",
       "  </tbody>\n",
       "</table>\n",
       "</div>\n",
       "      <button class=\"colab-df-convert\" onclick=\"convertToInteractive('df-e32f02e6-86c5-4897-9d36-4144c94f65fe')\"\n",
       "              title=\"Convert this dataframe to an interactive table.\"\n",
       "              style=\"display:none;\">\n",
       "        \n",
       "  <svg xmlns=\"http://www.w3.org/2000/svg\" height=\"24px\"viewBox=\"0 0 24 24\"\n",
       "       width=\"24px\">\n",
       "    <path d=\"M0 0h24v24H0V0z\" fill=\"none\"/>\n",
       "    <path d=\"M18.56 5.44l.94 2.06.94-2.06 2.06-.94-2.06-.94-.94-2.06-.94 2.06-2.06.94zm-11 1L8.5 8.5l.94-2.06 2.06-.94-2.06-.94L8.5 2.5l-.94 2.06-2.06.94zm10 10l.94 2.06.94-2.06 2.06-.94-2.06-.94-.94-2.06-.94 2.06-2.06.94z\"/><path d=\"M17.41 7.96l-1.37-1.37c-.4-.4-.92-.59-1.43-.59-.52 0-1.04.2-1.43.59L10.3 9.45l-7.72 7.72c-.78.78-.78 2.05 0 2.83L4 21.41c.39.39.9.59 1.41.59.51 0 1.02-.2 1.41-.59l7.78-7.78 2.81-2.81c.8-.78.8-2.07 0-2.86zM5.41 20L4 18.59l7.72-7.72 1.47 1.35L5.41 20z\"/>\n",
       "  </svg>\n",
       "      </button>\n",
       "      \n",
       "  <style>\n",
       "    .colab-df-container {\n",
       "      display:flex;\n",
       "      flex-wrap:wrap;\n",
       "      gap: 12px;\n",
       "    }\n",
       "\n",
       "    .colab-df-convert {\n",
       "      background-color: #E8F0FE;\n",
       "      border: none;\n",
       "      border-radius: 50%;\n",
       "      cursor: pointer;\n",
       "      display: none;\n",
       "      fill: #1967D2;\n",
       "      height: 32px;\n",
       "      padding: 0 0 0 0;\n",
       "      width: 32px;\n",
       "    }\n",
       "\n",
       "    .colab-df-convert:hover {\n",
       "      background-color: #E2EBFA;\n",
       "      box-shadow: 0px 1px 2px rgba(60, 64, 67, 0.3), 0px 1px 3px 1px rgba(60, 64, 67, 0.15);\n",
       "      fill: #174EA6;\n",
       "    }\n",
       "\n",
       "    [theme=dark] .colab-df-convert {\n",
       "      background-color: #3B4455;\n",
       "      fill: #D2E3FC;\n",
       "    }\n",
       "\n",
       "    [theme=dark] .colab-df-convert:hover {\n",
       "      background-color: #434B5C;\n",
       "      box-shadow: 0px 1px 3px 1px rgba(0, 0, 0, 0.15);\n",
       "      filter: drop-shadow(0px 1px 2px rgba(0, 0, 0, 0.3));\n",
       "      fill: #FFFFFF;\n",
       "    }\n",
       "  </style>\n",
       "\n",
       "      <script>\n",
       "        const buttonEl =\n",
       "          document.querySelector('#df-e32f02e6-86c5-4897-9d36-4144c94f65fe button.colab-df-convert');\n",
       "        buttonEl.style.display =\n",
       "          google.colab.kernel.accessAllowed ? 'block' : 'none';\n",
       "\n",
       "        async function convertToInteractive(key) {\n",
       "          const element = document.querySelector('#df-e32f02e6-86c5-4897-9d36-4144c94f65fe');\n",
       "          const dataTable =\n",
       "            await google.colab.kernel.invokeFunction('convertToInteractive',\n",
       "                                                     [key], {});\n",
       "          if (!dataTable) return;\n",
       "\n",
       "          const docLinkHtml = 'Like what you see? Visit the ' +\n",
       "            '<a target=\"_blank\" href=https://colab.research.google.com/notebooks/data_table.ipynb>data table notebook</a>'\n",
       "            + ' to learn more about interactive tables.';\n",
       "          element.innerHTML = '';\n",
       "          dataTable['output_type'] = 'display_data';\n",
       "          await google.colab.output.renderOutput(dataTable, element);\n",
       "          const docLink = document.createElement('div');\n",
       "          docLink.innerHTML = docLinkHtml;\n",
       "          element.appendChild(docLink);\n",
       "        }\n",
       "      </script>\n",
       "    </div>\n",
       "  </div>\n",
       "  "
      ],
      "text/plain": [
       "       Actual     Predicted\n",
       "7658     4269   4097.768406\n",
       "9767     4662   4907.646409\n",
       "24138   12308  10692.419574\n",
       "22881   10922   9239.092658\n",
       "33267     826   1461.722996\n",
       "36657     949   1440.529065\n",
       "1661     3024   4134.803971\n",
       "5487     3841   4451.394905\n",
       "21691     626    178.047237\n",
       "2485     3195   4554.307797\n",
       "8697     4459   4843.157285\n",
       "10294    4758   3952.491194\n",
       "6446     4047   4223.131916\n",
       "34317     859   1346.524864\n",
       "10974    4907   4963.694346\n",
       "29628     441  -1052.681714\n",
       "27047     645    498.485776\n",
       "7159     4181   4840.957513\n",
       "31990     776    584.324612\n",
       "37634     990    722.574167"
      ]
     },
     "execution_count": 1721,
     "metadata": {},
     "output_type": "execute_result"
    }
   ],
   "source": [
    "LR_results_df = pd.DataFrame({'Actual': y_test, 'Predicted': LR_y_pred})\n",
    "\n",
    "# предсказанная отрицательная цена - это не то же самое, \n",
    "# что и положительное значение, поэтому без abs\n",
    "# на самом деле это знак, что данная модель не (совсем) подходит этим данным\n",
    "# то есть плохо предсказывает дешевые алмазы\n",
    "\n",
    "LR_results_df.head(20)"
   ]
  },
  {
   "cell_type": "code",
   "execution_count": 1722,
   "id": "eIeNJNhqt0gt",
   "metadata": {
    "colab": {
     "base_uri": "https://localhost:8080/"
    },
    "executionInfo": {
     "elapsed": 13,
     "status": "ok",
     "timestamp": 1665170347482,
     "user": {
      "displayName": "Артем Мичурин",
      "userId": "01802978958332870353"
     },
     "user_tz": -180
    },
    "id": "eIeNJNhqt0gt",
    "outputId": "57efc2f4-9956-4bdc-c388-85d9776cd52c"
   },
   "outputs": [
    {
     "name": "stdout",
     "output_type": "stream",
     "text": [
      "Mean Absolute Error: 816.9338964080973\n",
      "Mean Squared Error: 1429410.5996915086\n",
      "Root Mean Squared Error: 1195.579608261829\n"
     ]
    }
   ],
   "source": [
    "print('Mean Absolute Error:', metrics.mean_absolute_error(y_test, LR_y_pred))\n",
    "print('Mean Squared Error:', metrics.mean_squared_error(y_test, LR_y_pred))\n",
    "print('Root Mean Squared Error:', np.sqrt(metrics.mean_squared_error(y_test, LR_y_pred)))"
   ]
  },
  {
   "cell_type": "code",
   "execution_count": 1723,
   "id": "M_BcgZqr2q2p",
   "metadata": {
    "executionInfo": {
     "elapsed": 515,
     "status": "ok",
     "timestamp": 1665170347988,
     "user": {
      "displayName": "Артем Мичурин",
      "userId": "01802978958332870353"
     },
     "user_tz": -180
    },
    "id": "M_BcgZqr2q2p"
   },
   "outputs": [],
   "source": [
    "# это расширение линейной регрессии для работы с \"ненормально\" распределенными данными\n",
    "TR = TweedieRegressor(power=1.0,\n",
    "                      max_iter=500,\n",
    "                      alpha=0.5,\n",
    "                      link='log').fit(scaled_train_data, y_train)\n",
    "\n",
    "TR_y_pred = TR.predict(scaled_test_data)"
   ]
  },
  {
   "cell_type": "markdown",
   "id": "0dbe832f-771b-4ab7-9bad-64e6c1d5b790",
   "metadata": {},
   "source": [
    "# Распределение tweedie\n",
    "<img src=\"tweedie-distribution.png\" alt=\"Alternative text\" />"
   ]
  },
  {
   "cell_type": "code",
   "execution_count": 1724,
   "id": "h5QFC2aC31d0",
   "metadata": {
    "colab": {
     "base_uri": "https://localhost:8080/",
     "height": 669
    },
    "executionInfo": {
     "elapsed": 17,
     "status": "ok",
     "timestamp": 1665170347988,
     "user": {
      "displayName": "Артем Мичурин",
      "userId": "01802978958332870353"
     },
     "user_tz": -180
    },
    "id": "h5QFC2aC31d0",
    "outputId": "d29d4bc2-24f3-42b8-8dd3-bcfca18ca828"
   },
   "outputs": [
    {
     "data": {
      "text/html": [
       "\n",
       "  <div id=\"df-cf59ed71-76d8-4b77-8521-038a7174c671\">\n",
       "    <div class=\"colab-df-container\">\n",
       "      <div>\n",
       "<style scoped>\n",
       "    .dataframe tbody tr th:only-of-type {\n",
       "        vertical-align: middle;\n",
       "    }\n",
       "\n",
       "    .dataframe tbody tr th {\n",
       "        vertical-align: top;\n",
       "    }\n",
       "\n",
       "    .dataframe thead th {\n",
       "        text-align: right;\n",
       "    }\n",
       "</style>\n",
       "<table border=\"1\" class=\"dataframe\">\n",
       "  <thead>\n",
       "    <tr style=\"text-align: right;\">\n",
       "      <th></th>\n",
       "      <th>Actual</th>\n",
       "      <th>Predicted</th>\n",
       "    </tr>\n",
       "  </thead>\n",
       "  <tbody>\n",
       "    <tr>\n",
       "      <th>7658</th>\n",
       "      <td>4269</td>\n",
       "      <td>3567.830068</td>\n",
       "    </tr>\n",
       "    <tr>\n",
       "      <th>9767</th>\n",
       "      <td>4662</td>\n",
       "      <td>4648.464895</td>\n",
       "    </tr>\n",
       "    <tr>\n",
       "      <th>24138</th>\n",
       "      <td>12308</td>\n",
       "      <td>11139.299079</td>\n",
       "    </tr>\n",
       "    <tr>\n",
       "      <th>22881</th>\n",
       "      <td>10922</td>\n",
       "      <td>11266.156778</td>\n",
       "    </tr>\n",
       "    <tr>\n",
       "      <th>33267</th>\n",
       "      <td>826</td>\n",
       "      <td>930.889066</td>\n",
       "    </tr>\n",
       "    <tr>\n",
       "      <th>36657</th>\n",
       "      <td>949</td>\n",
       "      <td>861.690492</td>\n",
       "    </tr>\n",
       "    <tr>\n",
       "      <th>1661</th>\n",
       "      <td>3024</td>\n",
       "      <td>3754.823192</td>\n",
       "    </tr>\n",
       "    <tr>\n",
       "      <th>5487</th>\n",
       "      <td>3841</td>\n",
       "      <td>3477.216012</td>\n",
       "    </tr>\n",
       "    <tr>\n",
       "      <th>21691</th>\n",
       "      <td>626</td>\n",
       "      <td>712.470989</td>\n",
       "    </tr>\n",
       "    <tr>\n",
       "      <th>2485</th>\n",
       "      <td>3195</td>\n",
       "      <td>3817.674233</td>\n",
       "    </tr>\n",
       "    <tr>\n",
       "      <th>8697</th>\n",
       "      <td>4459</td>\n",
       "      <td>4165.179232</td>\n",
       "    </tr>\n",
       "    <tr>\n",
       "      <th>10294</th>\n",
       "      <td>4758</td>\n",
       "      <td>3892.127803</td>\n",
       "    </tr>\n",
       "    <tr>\n",
       "      <th>6446</th>\n",
       "      <td>4047</td>\n",
       "      <td>3069.462485</td>\n",
       "    </tr>\n",
       "    <tr>\n",
       "      <th>34317</th>\n",
       "      <td>859</td>\n",
       "      <td>932.975598</td>\n",
       "    </tr>\n",
       "    <tr>\n",
       "      <th>10974</th>\n",
       "      <td>4907</td>\n",
       "      <td>4686.561900</td>\n",
       "    </tr>\n",
       "    <tr>\n",
       "      <th>29628</th>\n",
       "      <td>441</td>\n",
       "      <td>586.865709</td>\n",
       "    </tr>\n",
       "    <tr>\n",
       "      <th>27047</th>\n",
       "      <td>645</td>\n",
       "      <td>772.615795</td>\n",
       "    </tr>\n",
       "    <tr>\n",
       "      <th>7159</th>\n",
       "      <td>4181</td>\n",
       "      <td>4285.510195</td>\n",
       "    </tr>\n",
       "    <tr>\n",
       "      <th>31990</th>\n",
       "      <td>776</td>\n",
       "      <td>709.188961</td>\n",
       "    </tr>\n",
       "    <tr>\n",
       "      <th>37634</th>\n",
       "      <td>990</td>\n",
       "      <td>969.992219</td>\n",
       "    </tr>\n",
       "  </tbody>\n",
       "</table>\n",
       "</div>\n",
       "      <button class=\"colab-df-convert\" onclick=\"convertToInteractive('df-cf59ed71-76d8-4b77-8521-038a7174c671')\"\n",
       "              title=\"Convert this dataframe to an interactive table.\"\n",
       "              style=\"display:none;\">\n",
       "        \n",
       "  <svg xmlns=\"http://www.w3.org/2000/svg\" height=\"24px\"viewBox=\"0 0 24 24\"\n",
       "       width=\"24px\">\n",
       "    <path d=\"M0 0h24v24H0V0z\" fill=\"none\"/>\n",
       "    <path d=\"M18.56 5.44l.94 2.06.94-2.06 2.06-.94-2.06-.94-.94-2.06-.94 2.06-2.06.94zm-11 1L8.5 8.5l.94-2.06 2.06-.94-2.06-.94L8.5 2.5l-.94 2.06-2.06.94zm10 10l.94 2.06.94-2.06 2.06-.94-2.06-.94-.94-2.06-.94 2.06-2.06.94z\"/><path d=\"M17.41 7.96l-1.37-1.37c-.4-.4-.92-.59-1.43-.59-.52 0-1.04.2-1.43.59L10.3 9.45l-7.72 7.72c-.78.78-.78 2.05 0 2.83L4 21.41c.39.39.9.59 1.41.59.51 0 1.02-.2 1.41-.59l7.78-7.78 2.81-2.81c.8-.78.8-2.07 0-2.86zM5.41 20L4 18.59l7.72-7.72 1.47 1.35L5.41 20z\"/>\n",
       "  </svg>\n",
       "      </button>\n",
       "      \n",
       "  <style>\n",
       "    .colab-df-container {\n",
       "      display:flex;\n",
       "      flex-wrap:wrap;\n",
       "      gap: 12px;\n",
       "    }\n",
       "\n",
       "    .colab-df-convert {\n",
       "      background-color: #E8F0FE;\n",
       "      border: none;\n",
       "      border-radius: 50%;\n",
       "      cursor: pointer;\n",
       "      display: none;\n",
       "      fill: #1967D2;\n",
       "      height: 32px;\n",
       "      padding: 0 0 0 0;\n",
       "      width: 32px;\n",
       "    }\n",
       "\n",
       "    .colab-df-convert:hover {\n",
       "      background-color: #E2EBFA;\n",
       "      box-shadow: 0px 1px 2px rgba(60, 64, 67, 0.3), 0px 1px 3px 1px rgba(60, 64, 67, 0.15);\n",
       "      fill: #174EA6;\n",
       "    }\n",
       "\n",
       "    [theme=dark] .colab-df-convert {\n",
       "      background-color: #3B4455;\n",
       "      fill: #D2E3FC;\n",
       "    }\n",
       "\n",
       "    [theme=dark] .colab-df-convert:hover {\n",
       "      background-color: #434B5C;\n",
       "      box-shadow: 0px 1px 3px 1px rgba(0, 0, 0, 0.15);\n",
       "      filter: drop-shadow(0px 1px 2px rgba(0, 0, 0, 0.3));\n",
       "      fill: #FFFFFF;\n",
       "    }\n",
       "  </style>\n",
       "\n",
       "      <script>\n",
       "        const buttonEl =\n",
       "          document.querySelector('#df-cf59ed71-76d8-4b77-8521-038a7174c671 button.colab-df-convert');\n",
       "        buttonEl.style.display =\n",
       "          google.colab.kernel.accessAllowed ? 'block' : 'none';\n",
       "\n",
       "        async function convertToInteractive(key) {\n",
       "          const element = document.querySelector('#df-cf59ed71-76d8-4b77-8521-038a7174c671');\n",
       "          const dataTable =\n",
       "            await google.colab.kernel.invokeFunction('convertToInteractive',\n",
       "                                                     [key], {});\n",
       "          if (!dataTable) return;\n",
       "\n",
       "          const docLinkHtml = 'Like what you see? Visit the ' +\n",
       "            '<a target=\"_blank\" href=https://colab.research.google.com/notebooks/data_table.ipynb>data table notebook</a>'\n",
       "            + ' to learn more about interactive tables.';\n",
       "          element.innerHTML = '';\n",
       "          dataTable['output_type'] = 'display_data';\n",
       "          await google.colab.output.renderOutput(dataTable, element);\n",
       "          const docLink = document.createElement('div');\n",
       "          docLink.innerHTML = docLinkHtml;\n",
       "          element.appendChild(docLink);\n",
       "        }\n",
       "      </script>\n",
       "    </div>\n",
       "  </div>\n",
       "  "
      ],
      "text/plain": [
       "       Actual     Predicted\n",
       "7658     4269   3567.830068\n",
       "9767     4662   4648.464895\n",
       "24138   12308  11139.299079\n",
       "22881   10922  11266.156778\n",
       "33267     826    930.889066\n",
       "36657     949    861.690492\n",
       "1661     3024   3754.823192\n",
       "5487     3841   3477.216012\n",
       "21691     626    712.470989\n",
       "2485     3195   3817.674233\n",
       "8697     4459   4165.179232\n",
       "10294    4758   3892.127803\n",
       "6446     4047   3069.462485\n",
       "34317     859    932.975598\n",
       "10974    4907   4686.561900\n",
       "29628     441    586.865709\n",
       "27047     645    772.615795\n",
       "7159     4181   4285.510195\n",
       "31990     776    709.188961\n",
       "37634     990    969.992219"
      ]
     },
     "execution_count": 1724,
     "metadata": {},
     "output_type": "execute_result"
    }
   ],
   "source": [
    "results_df = pd.DataFrame({'Actual': y_test, 'Predicted': TR_y_pred})\n",
    "\n",
    "results_df.head(20)"
   ]
  },
  {
   "cell_type": "code",
   "execution_count": 1725,
   "id": "SNzKlcCM3k4O",
   "metadata": {
    "colab": {
     "base_uri": "https://localhost:8080/"
    },
    "executionInfo": {
     "elapsed": 12,
     "status": "ok",
     "timestamp": 1665170347989,
     "user": {
      "displayName": "Артем Мичурин",
      "userId": "01802978958332870353"
     },
     "user_tz": -180
    },
    "id": "SNzKlcCM3k4O",
    "outputId": "2ac3eb0c-2fda-4fa6-80a5-b83c6043c4e7"
   },
   "outputs": [
    {
     "name": "stdout",
     "output_type": "stream",
     "text": [
      "Mean Absolute Error: 505.0904633732999\n",
      "Mean Squared Error: 892089.5341280167\n",
      "Root Mean Squared Error: 944.5049148247015\n"
     ]
    }
   ],
   "source": [
    "print('Mean Absolute Error:', metrics.mean_absolute_error(y_test, TR_y_pred))\n",
    "print('Mean Squared Error:', metrics.mean_squared_error(y_test, TR_y_pred))\n",
    "print('Root Mean Squared Error:', np.sqrt(metrics.mean_squared_error(y_test, TR_y_pred)))"
   ]
  }
 ],
 "metadata": {
  "colab": {
   "collapsed_sections": [],
   "provenance": []
  },
  "kernelspec": {
   "display_name": "Python 3 (ipykernel)",
   "language": "python",
   "name": "python3"
  },
  "language_info": {
   "codemirror_mode": {
    "name": "ipython",
    "version": 3
   },
   "file_extension": ".py",
   "mimetype": "text/x-python",
   "name": "python",
   "nbconvert_exporter": "python",
   "pygments_lexer": "ipython3",
   "version": "3.9.7"
  }
 },
 "nbformat": 4,
 "nbformat_minor": 5
}
