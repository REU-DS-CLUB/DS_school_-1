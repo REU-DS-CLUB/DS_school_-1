{
 "cells": [
  {
   "cell_type": "code",
   "execution_count": 18,
   "metadata": {
    "id": "IRwwqix10hAV"
   },
   "outputs": [],
   "source": [
    "import pandas as pd\n",
    "from sklearn.model_selection import train_test_split\n",
    "from sklearn.linear_model import LinearRegression\n",
    "from sklearn.metrics import mean_absolute_percentage_error\n",
    "from sklearn.metrics import mean_squared_error"
   ]
  },
  {
   "cell_type": "code",
   "execution_count": 19,
   "metadata": {
    "colab": {
     "base_uri": "https://localhost:8080/"
    },
    "id": "--WJ0yg10nnF",
    "outputId": "2e7cf0fb-66a5-485c-96e1-2526c363532e"
   },
   "outputs": [
    {
     "name": "stdout",
     "output_type": "stream",
     "text": [
      "   carat      cut color clarity  depth  table  price     x     y     z\n",
      "1   0.23    Ideal     E     SI2   61.5   55.0    326  3.95  3.98  2.43\n",
      "2   0.21  Premium     E     SI1   59.8   61.0    326  3.89  3.84  2.31\n",
      "3   0.23     Good     E     VS1    NaN   65.0    327  4.05  4.07  2.31\n",
      "4   0.29  Premium     I     VS2   62.4   58.0    334  4.20  4.23  2.63\n",
      "5   0.31     Good     J     SI2   63.3   58.0    335  4.34  4.35  2.75\n"
     ]
    }
   ],
   "source": [
    "data = pd.read_csv(\"Diamonds_train.csv\", index_col = \"Unnamed: 0\")\n",
    "test = pd.read_csv(\"Diamonds_test.csv\", index_col = \"Unnamed: 0\")\n",
    "print(data.head())"
   ]
  },
  {
   "cell_type": "code",
   "execution_count": 20,
   "metadata": {
    "id": "lUoXKwmZ0nv0"
   },
   "outputs": [],
   "source": [
    "data = pd.get_dummies(data, columns = [\"color\", \"clarity\", \"cut\"])\n",
    "test = pd.get_dummies(test, columns = [\"color\", \"clarity\", \"cut\"])\n",
    "depth_mean = data['depth'].mean()\n",
    "data.fillna(value = {'depth': depth_mean}, inplace = True)"
   ]
  },
  {
   "cell_type": "code",
   "execution_count": 21,
   "metadata": {
    "id": "1ugRmquh1L_U"
   },
   "outputs": [],
   "source": [
    "prices = data[\"price\"]\n",
    "prices_test = test[\"price\"]\n",
    "\n",
    "features = data.drop(['price'], axis = 1) \n",
    "features_test = test.drop(['price'], axis = 1) \n",
    "X_train, X_test, y_train, y_test = train_test_split(features, prices, test_size = 0.2)"
   ]
  },
  {
   "cell_type": "code",
   "execution_count": 22,
   "metadata": {
    "colab": {
     "base_uri": "https://localhost:8080/",
     "height": 380
    },
    "id": "xmBHTyjR01Ce",
    "outputId": "cc4da5d7-920b-44e6-ed78-14f5c91f09a2"
   },
   "outputs": [
    {
     "name": "stdout",
     "output_type": "stream",
     "text": [
      "Coeff:0.923767179651652\n"
     ]
    }
   ],
   "source": [
    "regr = LinearRegression()\n",
    "model = regr.fit(X_train, y_train)\n",
    "r_sq = model.score(X_test, y_test)\n",
    "print(\"Coeff:\" + str(r_sq))"
   ]
  },
  {
   "cell_type": "code",
   "execution_count": 23,
   "metadata": {
    "colab": {
     "base_uri": "https://localhost:8080/"
    },
    "id": "gOdBgbSv01dG",
    "outputId": "48bd7d32-158c-4cd1-a181-2eaec5a5ea73"
   },
   "outputs": [
    {
     "name": "stdout",
     "output_type": "stream",
     "text": [
      "0.43382243486489735\n",
      "1431878.6814100335\n"
     ]
    }
   ],
   "source": [
    "y_pred = model.predict(X_test)\n",
    "\n",
    "print(mean_absolute_percentage_error(y_test,y_pred))\n",
    "\n",
    "print(mean_squared_error(y_test, y_pred))"
   ]
  },
  {
   "cell_type": "code",
   "execution_count": 24,
   "metadata": {},
   "outputs": [
    {
     "name": "stdout",
     "output_type": "stream",
     "text": [
      "0.44974888377210565\n",
      "646375.5029894327\n"
     ]
    }
   ],
   "source": [
    "y_pred_test = model.predict(features_test)\n",
    "\n",
    "print(mean_absolute_percentage_error(prices_test,y_pred_test))\n",
    "\n",
    "print(mean_squared_error(prices_test, y_pred_test))"
   ]
  }
 ],
 "metadata": {
  "colab": {
   "collapsed_sections": [],
   "provenance": []
  },
  "kernelspec": {
   "display_name": "Python 3 (ipykernel)",
   "language": "python",
   "name": "python3"
  },
  "language_info": {
   "codemirror_mode": {
    "name": "ipython",
    "version": 3
   },
   "file_extension": ".py",
   "mimetype": "text/x-python",
   "name": "python",
   "nbconvert_exporter": "python",
   "pygments_lexer": "ipython3",
   "version": "3.9.7"
  }
 },
 "nbformat": 4,
 "nbformat_minor": 4
}
