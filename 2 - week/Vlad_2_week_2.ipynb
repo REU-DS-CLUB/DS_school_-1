{
 "cells": [
  {
   "cell_type": "code",
   "execution_count": 1,
   "id": "b0f1cc92",
   "metadata": {},
   "outputs": [
    {
     "data": {
      "text/html": [
       "<div>\n",
       "<style scoped>\n",
       "    .dataframe tbody tr th:only-of-type {\n",
       "        vertical-align: middle;\n",
       "    }\n",
       "\n",
       "    .dataframe tbody tr th {\n",
       "        vertical-align: top;\n",
       "    }\n",
       "\n",
       "    .dataframe thead th {\n",
       "        text-align: right;\n",
       "    }\n",
       "</style>\n",
       "<table border=\"1\" class=\"dataframe\">\n",
       "  <thead>\n",
       "    <tr style=\"text-align: right;\">\n",
       "      <th></th>\n",
       "      <th>X</th>\n",
       "      <th>Y</th>\n",
       "    </tr>\n",
       "  </thead>\n",
       "  <tbody>\n",
       "    <tr>\n",
       "      <th>0</th>\n",
       "      <td>5.432943</td>\n",
       "      <td>0.109422</td>\n",
       "    </tr>\n",
       "    <tr>\n",
       "      <th>1</th>\n",
       "      <td>-9.101988</td>\n",
       "      <td>7.139412</td>\n",
       "    </tr>\n",
       "    <tr>\n",
       "      <th>2</th>\n",
       "      <td>1.402974</td>\n",
       "      <td>0.376474</td>\n",
       "    </tr>\n",
       "    <tr>\n",
       "      <th>3</th>\n",
       "      <td>5.578543</td>\n",
       "      <td>0.229852</td>\n",
       "    </tr>\n",
       "    <tr>\n",
       "      <th>4</th>\n",
       "      <td>1.392159</td>\n",
       "      <td>8.419821</td>\n",
       "    </tr>\n",
       "    <tr>\n",
       "      <th>...</th>\n",
       "      <td>...</td>\n",
       "      <td>...</td>\n",
       "    </tr>\n",
       "    <tr>\n",
       "      <th>995</th>\n",
       "      <td>-9.795986</td>\n",
       "      <td>4.938351</td>\n",
       "    </tr>\n",
       "    <tr>\n",
       "      <th>996</th>\n",
       "      <td>0.930429</td>\n",
       "      <td>9.661312</td>\n",
       "    </tr>\n",
       "    <tr>\n",
       "      <th>997</th>\n",
       "      <td>2.716334</td>\n",
       "      <td>8.113785</td>\n",
       "    </tr>\n",
       "    <tr>\n",
       "      <th>998</th>\n",
       "      <td>-9.226332</td>\n",
       "      <td>-8.086170</td>\n",
       "    </tr>\n",
       "    <tr>\n",
       "      <th>999</th>\n",
       "      <td>-0.469137</td>\n",
       "      <td>7.816098</td>\n",
       "    </tr>\n",
       "  </tbody>\n",
       "</table>\n",
       "<p>1000 rows × 2 columns</p>\n",
       "</div>"
      ],
      "text/plain": [
       "            X         Y\n",
       "0    5.432943  0.109422\n",
       "1   -9.101988  7.139412\n",
       "2    1.402974  0.376474\n",
       "3    5.578543  0.229852\n",
       "4    1.392159  8.419821\n",
       "..        ...       ...\n",
       "995 -9.795986  4.938351\n",
       "996  0.930429  9.661312\n",
       "997  2.716334  8.113785\n",
       "998 -9.226332 -8.086170\n",
       "999 -0.469137  7.816098\n",
       "\n",
       "[1000 rows x 2 columns]"
      ]
     },
     "execution_count": 1,
     "metadata": {},
     "output_type": "execute_result"
    }
   ],
   "source": [
    "import pandas as pd \n",
    "from matplotlib import pyplot as plt\n",
    "from sklearn.cluster import AgglomerativeClustering\n",
    "from sklearn.cluster import KMeans\n",
    "from sklearn import metrics\n",
    "\n",
    "\n",
    "dataset = pd.read_csv(\"Second_week_second_dataset.csv\",index_col = 'Unnamed: 0')\n",
    "\n",
    "dataset"
   ]
  },
  {
   "cell_type": "code",
   "execution_count": 2,
   "id": "eb8c3568",
   "metadata": {},
   "outputs": [
    {
     "data": {
      "text/html": [
       "<div>\n",
       "<style scoped>\n",
       "    .dataframe tbody tr th:only-of-type {\n",
       "        vertical-align: middle;\n",
       "    }\n",
       "\n",
       "    .dataframe tbody tr th {\n",
       "        vertical-align: top;\n",
       "    }\n",
       "\n",
       "    .dataframe thead th {\n",
       "        text-align: right;\n",
       "    }\n",
       "</style>\n",
       "<table border=\"1\" class=\"dataframe\">\n",
       "  <thead>\n",
       "    <tr style=\"text-align: right;\">\n",
       "      <th></th>\n",
       "      <th>X</th>\n",
       "      <th>Y</th>\n",
       "      <th>clast</th>\n",
       "    </tr>\n",
       "  </thead>\n",
       "  <tbody>\n",
       "    <tr>\n",
       "      <th>0</th>\n",
       "      <td>5.432943</td>\n",
       "      <td>0.109422</td>\n",
       "      <td>0</td>\n",
       "    </tr>\n",
       "    <tr>\n",
       "      <th>1</th>\n",
       "      <td>-9.101988</td>\n",
       "      <td>7.139412</td>\n",
       "      <td>0</td>\n",
       "    </tr>\n",
       "    <tr>\n",
       "      <th>2</th>\n",
       "      <td>1.402974</td>\n",
       "      <td>0.376474</td>\n",
       "      <td>0</td>\n",
       "    </tr>\n",
       "    <tr>\n",
       "      <th>3</th>\n",
       "      <td>5.578543</td>\n",
       "      <td>0.229852</td>\n",
       "      <td>0</td>\n",
       "    </tr>\n",
       "    <tr>\n",
       "      <th>4</th>\n",
       "      <td>1.392159</td>\n",
       "      <td>8.419821</td>\n",
       "      <td>0</td>\n",
       "    </tr>\n",
       "    <tr>\n",
       "      <th>...</th>\n",
       "      <td>...</td>\n",
       "      <td>...</td>\n",
       "      <td>...</td>\n",
       "    </tr>\n",
       "    <tr>\n",
       "      <th>995</th>\n",
       "      <td>-9.795986</td>\n",
       "      <td>4.938351</td>\n",
       "      <td>0</td>\n",
       "    </tr>\n",
       "    <tr>\n",
       "      <th>996</th>\n",
       "      <td>0.930429</td>\n",
       "      <td>9.661312</td>\n",
       "      <td>0</td>\n",
       "    </tr>\n",
       "    <tr>\n",
       "      <th>997</th>\n",
       "      <td>2.716334</td>\n",
       "      <td>8.113785</td>\n",
       "      <td>0</td>\n",
       "    </tr>\n",
       "    <tr>\n",
       "      <th>998</th>\n",
       "      <td>-9.226332</td>\n",
       "      <td>-8.086170</td>\n",
       "      <td>1</td>\n",
       "    </tr>\n",
       "    <tr>\n",
       "      <th>999</th>\n",
       "      <td>-0.469137</td>\n",
       "      <td>7.816098</td>\n",
       "      <td>0</td>\n",
       "    </tr>\n",
       "  </tbody>\n",
       "</table>\n",
       "<p>1000 rows × 3 columns</p>\n",
       "</div>"
      ],
      "text/plain": [
       "            X         Y  clast\n",
       "0    5.432943  0.109422      0\n",
       "1   -9.101988  7.139412      0\n",
       "2    1.402974  0.376474      0\n",
       "3    5.578543  0.229852      0\n",
       "4    1.392159  8.419821      0\n",
       "..        ...       ...    ...\n",
       "995 -9.795986  4.938351      0\n",
       "996  0.930429  9.661312      0\n",
       "997  2.716334  8.113785      0\n",
       "998 -9.226332 -8.086170      1\n",
       "999 -0.469137  7.816098      0\n",
       "\n",
       "[1000 rows x 3 columns]"
      ]
     },
     "execution_count": 2,
     "metadata": {},
     "output_type": "execute_result"
    },
    {
     "data": {
      "image/png": "[encoded data removed]",
      "text/plain": [
       "<Figure size 432x288 with 1 Axes>"
      ]
     },
     "metadata": {
      "needs_background": "light"
     },
     "output_type": "display_data"
    }
   ],
   "source": [
    "plt.scatter(dataset.X,dataset.Y)\n",
    "claster = AgglomerativeClustering(linkage='single').fit(dataset)\n",
    "\n",
    "dataset[\"clast\"]=claster.labels_\n",
    "\n",
    "dataset"
   ]
  },
  {
   "cell_type": "code",
   "execution_count": 3,
   "id": "242e7cc1",
   "metadata": {},
   "outputs": [
    {
     "data": {
      "text/plain": [
       "[<matplotlib.lines.Line2D at 0x7fb221c8cc10>]"
      ]
     },
     "execution_count": 3,
     "metadata": {},
     "output_type": "execute_result"
    },
    {
     "data": {
      "image/png": "[encoded data removed]",
      "text/plain": [
       "<Figure size 432x288 with 1 Axes>"
      ]
     },
     "metadata": {
      "needs_background": "light"
     },
     "output_type": "display_data"
    }
   ],
   "source": [
    "SSE = [] \n",
    "\n",
    "for k in range(1, 9):\n",
    "    estimator = KMeans(n_clusters=k)\n",
    "    estimator.fit(dataset)\n",
    "    SSE.append(estimator.inertia_)\n",
    "\n",
    "X = range(1, 9)\n",
    "plt.plot(X, SSE, 'o-')"
   ]
  },
  {
   "cell_type": "code",
   "execution_count": 4,
   "id": "e3f6172a",
   "metadata": {},
   "outputs": [
    {
     "data": {
      "text/plain": [
       "[60573.05376769457,\n",
       " 34927.13184842259,\n",
       " 16619.028558956237,\n",
       " 8617.09896312384,\n",
       " 4740.129434019402,\n",
       " 3435.8566780421406,\n",
       " 2704.797365732834,\n",
       " 2213.9120241245855]"
      ]
     },
     "execution_count": 4,
     "metadata": {},
     "output_type": "execute_result"
    }
   ],
   "source": [
    "SSE"
   ]
  },
  {
   "cell_type": "code",
   "execution_count": 5,
   "id": "0dd90b14",
   "metadata": {},
   "outputs": [
    {
     "data": {
      "image/png": "[encoded data removed]",
      "text/plain": [
       "<Figure size 432x288 with 1 Axes>"
      ]
     },
     "metadata": {
      "needs_background": "light"
     },
     "output_type": "display_data"
    }
   ],
   "source": [
    "model = KMeans(n_clusters=7)\n",
    "s = model.fit(dataset)\n",
    "l = model.predict(dataset)\n",
    "\n",
    "dataset['clast'] = l\n",
    "\n",
    "col1 = {0:'green',1:'red',2:\"blue\",3:\"orange\",4:\"white\",5:'dodgerblue',6:'limegreen',7:\"purple\"}\n",
    "\n",
    "col = [col1[i] for i in dataset.clast]\n",
    "s = plt.scatter(dataset.X, dataset.Y, c=col)"
   ]
  },
  {
   "cell_type": "code",
   "execution_count": 6,
   "id": "59acf0fa",
   "metadata": {},
   "outputs": [
    {
     "data": {
      "text/plain": [
       "0.6537324316287167"
      ]
     },
     "execution_count": 6,
     "metadata": {},
     "output_type": "execute_result"
    }
   ],
   "source": [
    "metrics.silhouette_score(dataset, l, metric='euclidean')"
   ]
  }
 ],
 "metadata": {
  "kernelspec": {
   "display_name": "Python 3 (ipykernel)",
   "language": "python",
   "name": "python3"
  },
  "language_info": {
   "codemirror_mode": {
    "name": "ipython",
    "version": 3
   },
   "file_extension": ".py",
   "mimetype": "text/x-python",
   "name": "python",
   "nbconvert_exporter": "python",
   "pygments_lexer": "ipython3",
   "version": "3.9.7"
  }
 },
 "nbformat": 4,
 "nbformat_minor": 5
}
