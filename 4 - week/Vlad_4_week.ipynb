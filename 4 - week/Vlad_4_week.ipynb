{
 "cells": [
  {
   "cell_type": "code",
   "execution_count": 1,
   "id": "0df41042",
   "metadata": {},
   "outputs": [],
   "source": [
    "import pandas as pd\n",
    "from sklearn.ensemble import RandomForestClassifier\n",
    "from sklearn.model_selection import train_test_split\n",
    "from sklearn.model_selection import GridSearchCV, RandomizedSearchCV\n",
    "from sklearn.metrics import f1_score\n",
    "import numpy as np\n",
    "from sklearn.preprocessing import StandardScaler\n",
    "from sklearn.decomposition import PCA\n",
    "from sklearn.ensemble import GradientBoostingClassifier\n",
    "from catboost import CatBoostClassifier\n",
    "from statsmodels.stats.outliers_influence import variance_inflation_factor  \n",
    "from statsmodels.tools.tools import add_constant \n",
    "\n",
    "\n",
    "data = pd.read_csv('train_1.csv')\n",
    "data['px'] = data['px_height'] * data['px_width']\n",
    "data_px = data.drop('px_height',axis=1)\n",
    "data_px = data_px.drop('px_width',axis=1)\n",
    "data_px['sc'] = data_px['sc_h']*data_px['sc_w']\n",
    "data_px = data_px.drop('sc_h',axis=1)\n",
    "data_px = data_px.drop('sc_w',axis=1)\n",
    "data_px = data_px.drop('three_g',axis=1) #незначимый столбец"
   ]
  },
  {
   "cell_type": "code",
   "execution_count": 2,
   "id": "5c853b7d",
   "metadata": {},
   "outputs": [
    {
     "data": {
      "text/plain": [
       "battery_power     7.855053\n",
       "blue              1.977358\n",
       "clock_speed       4.215547\n",
       "dual_sim          1.995854\n",
       "fc                3.410426\n",
       "four_g            2.050176\n",
       "int_memory        3.884432\n",
       "m_dep             3.871176\n",
       "mobile_wt        11.865841\n",
       "n_cores           4.524659\n",
       "pc                6.161952\n",
       "ram               4.611167\n",
       "talk_time         4.777305\n",
       "touch_screen      1.982163\n",
       "wifi              2.005841\n",
       "px                2.169693\n",
       "sc                2.073933\n",
       "dtype: float64"
      ]
     },
     "execution_count": 2,
     "metadata": {},
     "output_type": "execute_result"
    }
   ],
   "source": [
    "data_cor = data_px.drop('price_range', axis=1)  \n",
    "vif = [variance_inflation_factor(data_cor.values, data_cor.columns.get_loc(i)) for i in data_cor.columns]\n",
    "\n",
    "ds=pd.Series(\n",
    "    vif,   \n",
    "    index=data_cor.columns\n",
    ") \n",
    "ds # мультиколлинеарность есть, для этого можно удалить столбец mobile_wt или применить PCA"
   ]
  },
  {
   "cell_type": "code",
   "execution_count": 3,
   "id": "bf35b1ea",
   "metadata": {},
   "outputs": [],
   "source": [
    "pca = PCA(n_components=3).fit(data_px)\n",
    "pca_3d = pca.transform(data_px)\n",
    "data_y = data_px.price_range\n",
    "x_train, x_test, y_train, y_test = train_test_split(pca_3d, data_y, test_size=0.2)"
   ]
  },
  {
   "cell_type": "code",
   "execution_count": 6,
   "id": "d7195cf7",
   "metadata": {},
   "outputs": [
    {
     "data": {
      "application/vnd.jupyter.widget-view+json": {
       "model_id": "d85c3a6c19cc4c70824e149a47488145",
       "version_major": 2,
       "version_minor": 0
      },
      "text/plain": [
       "MetricVisualizer(layout=Layout(align_self='stretch', height='500px'))"
      ]
     },
     "metadata": {},
     "output_type": "display_data"
    },
    {
     "data": {
      "text/plain": [
       "0.91"
      ]
     },
     "execution_count": 6,
     "metadata": {},
     "output_type": "execute_result"
    }
   ],
   "source": [
    "# CatBoost\n",
    "\n",
    "model = CatBoostClassifier(\n",
    "    iterations=368,\n",
    "    random_seed=0,\n",
    "    learning_rate=0.15\n",
    ")\n",
    "\n",
    "model.fit(\n",
    "    x_train, y_train,\n",
    "    eval_set=(x_test, y_test),\n",
    "    verbose=False,\n",
    "    plot=True\n",
    ")\n",
    "\n",
    "model.score(x_test, y_test)"
   ]
  },
  {
   "cell_type": "code",
   "execution_count": 8,
   "id": "48cb60d5",
   "metadata": {},
   "outputs": [
    {
     "data": {
      "text/plain": [
       "0.89"
      ]
     },
     "execution_count": 8,
     "metadata": {},
     "output_type": "execute_result"
    }
   ],
   "source": [
    "# RandomForest\n",
    "cl = RandomForestClassifier()\n",
    "param_dist = {'n_estimators': [110,120,130],\n",
    "              'max_depth': [20,23,25],\n",
    "              'min_samples_split': [8,15,20],\n",
    "              'min_samples_leaf': [2,3,4],\n",
    "             }\n",
    "gs = GridSearchCV(cl, param_dist, cv=5)\n",
    "gs.fit(x_train, y_train)\n",
    "c = gs.best_params_\n",
    "\n",
    "cl = RandomForestClassifier(\n",
    "    max_depth=c['max_depth'],\n",
    "    n_estimators= c['n_estimators'] ,\n",
    "    min_samples_leaf=c['min_samples_leaf'],\n",
    "    min_samples_split=c['min_samples_split']\n",
    ")\n",
    "\n",
    "cl.fit(x_train,y_train)\n",
    "n = cl.predict(x_test)\n",
    "l = np.array(y_test)\n",
    "f1_score(l,n,average='micro')"
   ]
  },
  {
   "cell_type": "code",
   "execution_count": 9,
   "id": "7096f844",
   "metadata": {},
   "outputs": [
    {
     "data": {
      "text/plain": [
       "0.895"
      ]
     },
     "execution_count": 9,
     "metadata": {},
     "output_type": "execute_result"
    }
   ],
   "source": [
    "from xgboost import XGBClassifier\n",
    "model1 = XGBClassifier(max_depth=15, n_estimators=120)\n",
    "model1.fit(x_train, y_train)\n",
    "model1.score(x_test, y_test)\n"
   ]
  },
  {
   "cell_type": "code",
   "execution_count": 10,
   "id": "f8443d98",
   "metadata": {},
   "outputs": [
    {
     "name": "stdout",
     "output_type": "stream",
     "text": [
      "0.8875\n"
     ]
    },
    {
     "data": {
      "text/plain": [
       "<AxesSubplot:>"
      ]
     },
     "execution_count": 10,
     "metadata": {},
     "output_type": "execute_result"
    },
    {
     "data": {
      "image/png": "[encoded data removed]",
      "text/plain": [
       "<Figure size 864x576 with 1 Axes>"
      ]
     },
     "metadata": {
      "needs_background": "light"
     },
     "output_type": "display_data"
    }
   ],
   "source": [
    "data_px = data_px.drop('mobile_wt',axis=1)# то же самое, только с удалением mobile_wt\n",
    "\n",
    "data_y = data_px.price_range\n",
    "data_x = data_px.drop('price_range',axis=1)\n",
    "\n",
    "x_train, x_test, y_train, y_test = train_test_split(data_x, data_y, test_size=0.2)\n",
    "cl = RandomForestClassifier(max_depth=23, n_estimators=110, min_samples_leaf=2,\n",
    "                            min_samples_split=8)\n",
    "cl.fit(x_train, y_train)\n",
    "n = cl.predict(x_test)\n",
    "l = np.array(y_test)\n",
    "print(f1_score(l, n, average='micro'))\n",
    "\n",
    "imp = pd.DataFrame(cl.feature_importances_, index=x_train.columns, columns=['importance'])\n",
    "imp.sort_values('importance').plot(kind='barh', figsize=(12, 8))"
   ]
  }
 ],
 "metadata": {
  "kernelspec": {
   "display_name": "Python 3 (ipykernel)",
   "language": "python",
   "name": "python3"
  },
  "language_info": {
   "codemirror_mode": {
    "name": "ipython",
    "version": 3
   },
   "file_extension": ".py",
   "mimetype": "text/x-python",
   "name": "python",
   "nbconvert_exporter": "python",
   "pygments_lexer": "ipython3",
   "version": "3.9.7"
  }
 },
 "nbformat": 4,
 "nbformat_minor": 5
}
